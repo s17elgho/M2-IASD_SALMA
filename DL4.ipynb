{
  "nbformat": 4,
  "nbformat_minor": 0,
  "metadata": {
    "colab": {
      "name": "DL4.ipynb",
      "provenance": [],
      "authorship_tag": "ABX9TyNxukz2gyp+F9J3nqe2rSop",
      "include_colab_link": true
    },
    "kernelspec": {
      "name": "python3",
      "display_name": "Python 3"
    },
    "accelerator": "GPU"
  },
  "cells": [
    {
      "cell_type": "markdown",
      "metadata": {
        "id": "view-in-github",
        "colab_type": "text"
      },
      "source": [
        "<a href=\"https://colab.research.google.com/github/s17elgho/M2-IASD_SALMA/blob/main/DL4.ipynb\" target=\"_parent\"><img src=\"https://colab.research.google.com/assets/colab-badge.svg\" alt=\"Open In Colab\"/></a>"
      ]
    },
    {
      "cell_type": "markdown",
      "metadata": {
        "id": "f7QH2SXP9iec"
      },
      "source": [
        "## <center> DL4 <center>"
      ]
    },
    {
      "cell_type": "code",
      "metadata": {
        "id": "YJvomDXOpUCR"
      },
      "source": [
        "import numpy as np\n",
        "from keras.layers import Dense, Activation ## layers of the model\n",
        "from tensorflow.keras.optimizers import SGD ## for learning\n",
        "import tensorflow as tf\n",
        "from tensorflow import keras\n",
        "from tensorflow.keras import Sequential ## for building the model"
      ],
      "execution_count": 1,
      "outputs": []
    },
    {
      "cell_type": "markdown",
      "metadata": {
        "id": "pD6G-YrmpZKY"
      },
      "source": [
        "## I- Regression : Boston Housing dataset"
      ]
    },
    {
      "cell_type": "markdown",
      "metadata": {
        "id": "A2qJHJRO-1tG"
      },
      "source": [
        "Load the data . <br>\n",
        "Predict the median price of homes in a given Boston suburb in the mid-1970s, given data points about the suburb at the time, such as the crime rate, the local property tax rate, and so on. The dataset you’ll use has an interesting difference from the two previous examples. It has relatively few data points: only 506, split between 404 training samples and 102 test samples. And each feature in the input data (for example, the crime rate) has a different scale. For instance, some values are proportions, which take values between 0 and 1; others take values between 1 and 12, others between 0 and 100, and so on"
      ]
    },
    {
      "cell_type": "code",
      "metadata": {
        "id": "0zAtHxFydOTA"
      },
      "source": [
        "from tensorflow.keras.datasets import boston_housing\n",
        "(train_data, train_targets), (test_data, test_targets) = boston_housing.load_data()"
      ],
      "execution_count": 54,
      "outputs": []
    },
    {
      "cell_type": "code",
      "metadata": {
        "id": "4_C9K86PpTeC",
        "outputId": "94af8048-d104-45c1-f63b-3f960bce4078",
        "colab": {
          "base_uri": "https://localhost:8080/",
          "height": 35
        }
      },
      "source": [
        "train_data.shape, test_data.shape"
      ],
      "execution_count": 55,
      "outputs": [
        {
          "output_type": "execute_result",
          "data": {
            "text/plain": [
              "((404, 13), (102, 13))"
            ]
          },
          "metadata": {
            "tags": []
          },
          "execution_count": 55
        }
      ]
    },
    {
      "cell_type": "code",
      "metadata": {
        "id": "FChwq1E-piiY",
        "outputId": "dcbd8a82-80db-4fc7-ca4b-1bd783c7dcde",
        "colab": {
          "base_uri": "https://localhost:8080/",
          "height": 69
        }
      },
      "source": [
        "train_data[0]"
      ],
      "execution_count": 56,
      "outputs": [
        {
          "output_type": "execute_result",
          "data": {
            "text/plain": [
              "array([  1.23247,   0.     ,   8.14   ,   0.     ,   0.538  ,   6.142  ,\n",
              "        91.7    ,   3.9769 ,   4.     , 307.     ,  21.     , 396.9    ,\n",
              "        18.72   ])"
            ]
          },
          "metadata": {
            "tags": []
          },
          "execution_count": 56
        }
      ]
    },
    {
      "cell_type": "code",
      "metadata": {
        "id": "RS6amGVu_udE",
        "outputId": "1b114e44-6397-42f5-8509-19c4c93a0261",
        "colab": {
          "base_uri": "https://localhost:8080/",
          "height": 35
        }
      },
      "source": [
        "train_targets[0]"
      ],
      "execution_count": 109,
      "outputs": [
        {
          "output_type": "execute_result",
          "data": {
            "text/plain": [
              "15.2"
            ]
          },
          "metadata": {
            "tags": []
          },
          "execution_count": 109
        }
      ]
    },
    {
      "cell_type": "markdown",
      "metadata": {
        "id": "VLyuFq8dq1eX"
      },
      "source": [
        "We have 13 attributes and 506 examples overall"
      ]
    },
    {
      "cell_type": "markdown",
      "metadata": {
        "id": "bMvfQjpdqlms"
      },
      "source": [
        "1- Scale the data . Here I used Min max scaler but you can select standard scaler as well like what the teacher did"
      ]
    },
    {
      "cell_type": "code",
      "metadata": {
        "id": "1dj-hNZ0ppJ3",
        "outputId": "7149dc25-f961-4923-daee-feb565f77957",
        "colab": {
          "base_uri": "https://localhost:8080/",
          "height": 35
        }
      },
      "source": [
        "from sklearn.preprocessing import MinMaxScaler\n",
        "scaler = MinMaxScaler()\n",
        "print(scaler.fit(train_data))"
      ],
      "execution_count": 57,
      "outputs": [
        {
          "output_type": "stream",
          "text": [
            "MinMaxScaler(copy=True, feature_range=(0, 1))\n"
          ],
          "name": "stdout"
        }
      ]
    },
    {
      "cell_type": "code",
      "metadata": {
        "id": "l9h4bFVVqcLK"
      },
      "source": [
        "x_train = scaler.transform(train_data)\n",
        "x_test = scaler.transform(test_data)"
      ],
      "execution_count": 58,
      "outputs": []
    },
    {
      "cell_type": "markdown",
      "metadata": {
        "id": "JCFIJXqTq9Cz"
      },
      "source": [
        "2- Build the model"
      ]
    },
    {
      "cell_type": "code",
      "metadata": {
        "id": "FojLRxLQqfVn"
      },
      "source": [
        "\n",
        "def build_model(optimizer='adam', neurons = 64):\n",
        "  model = Sequential()\n",
        "  model.add(Dense(units = neurons, input_dim = 13))\n",
        "  model.add(Activation('relu'))\n",
        "  model.add(Dense(units = neurons))\n",
        "  model.add(Activation('relu'))\n",
        "  model.add(Dense(units = 1))\n",
        "  model.compile(loss='mse',optimizer = optimizer,metrics=[\"mae\"])\n",
        "  return model\n"
      ],
      "execution_count": 91,
      "outputs": []
    },
    {
      "cell_type": "markdown",
      "metadata": {
        "id": "D-r0YzKnxRQF"
      },
      "source": [
        "Fit the model. We choose as loss function the mean squared error and as a metric for testing the model mean absolute error since we have a regression problem"
      ]
    },
    {
      "cell_type": "code",
      "metadata": {
        "id": "S-5GXPT2v4VK",
        "outputId": "fd327a6a-a50e-48d8-9d2c-d2f69522e5dd",
        "colab": {
          "base_uri": "https://localhost:8080/",
          "height": 1000
        }
      },
      "source": [
        "model = build_model()\n",
        "history = model.fit(x_train, train_targets, batch_size=128, epochs=50, validation_split=0.2)"
      ],
      "execution_count": 66,
      "outputs": [
        {
          "output_type": "stream",
          "text": [
            "Epoch 1/50\n",
            "3/3 [==============================] - 0s 100ms/step - loss: 547.5764 - mae: 21.5350 - val_loss: 597.1001 - val_mae: 22.6335\n",
            "Epoch 2/50\n",
            "3/3 [==============================] - 0s 6ms/step - loss: 521.5597 - mae: 20.9007 - val_loss: 572.5187 - val_mae: 22.0641\n",
            "Epoch 3/50\n",
            "3/3 [==============================] - 0s 6ms/step - loss: 498.2158 - mae: 20.3131 - val_loss: 547.0130 - val_mae: 21.4563\n",
            "Epoch 4/50\n",
            "3/3 [==============================] - 0s 9ms/step - loss: 474.3518 - mae: 19.6833 - val_loss: 521.4982 - val_mae: 20.8295\n",
            "Epoch 5/50\n",
            "3/3 [==============================] - 0s 6ms/step - loss: 450.4190 - mae: 19.0350 - val_loss: 495.0443 - val_mae: 20.1590\n",
            "Epoch 6/50\n",
            "3/3 [==============================] - 0s 7ms/step - loss: 425.5955 - mae: 18.3375 - val_loss: 467.2309 - val_mae: 19.4277\n",
            "Epoch 7/50\n",
            "3/3 [==============================] - 0s 6ms/step - loss: 399.9133 - mae: 17.5908 - val_loss: 438.8855 - val_mae: 18.6487\n",
            "Epoch 8/50\n",
            "3/3 [==============================] - 0s 6ms/step - loss: 373.5836 - mae: 16.8076 - val_loss: 408.9055 - val_mae: 17.7864\n",
            "Epoch 9/50\n",
            "3/3 [==============================] - 0s 5ms/step - loss: 346.5223 - mae: 15.9432 - val_loss: 379.7885 - val_mae: 16.9247\n",
            "Epoch 10/50\n",
            "3/3 [==============================] - 0s 6ms/step - loss: 320.0047 - mae: 15.0691 - val_loss: 349.8478 - val_mae: 15.9847\n",
            "Epoch 11/50\n",
            "3/3 [==============================] - 0s 6ms/step - loss: 293.3219 - mae: 14.1822 - val_loss: 320.6313 - val_mae: 15.0036\n",
            "Epoch 12/50\n",
            "3/3 [==============================] - 0s 6ms/step - loss: 267.7281 - mae: 13.3089 - val_loss: 292.7100 - val_mae: 14.0651\n",
            "Epoch 13/50\n",
            "3/3 [==============================] - 0s 6ms/step - loss: 243.6918 - mae: 12.4849 - val_loss: 266.7640 - val_mae: 13.2173\n",
            "Epoch 14/50\n",
            "3/3 [==============================] - 0s 7ms/step - loss: 221.7077 - mae: 11.7065 - val_loss: 242.4617 - val_mae: 12.4529\n",
            "Epoch 15/50\n",
            "3/3 [==============================] - 0s 6ms/step - loss: 201.6029 - mae: 11.0201 - val_loss: 219.9857 - val_mae: 11.7890\n",
            "Epoch 16/50\n",
            "3/3 [==============================] - 0s 6ms/step - loss: 183.7751 - mae: 10.3858 - val_loss: 200.6626 - val_mae: 11.1867\n",
            "Epoch 17/50\n",
            "3/3 [==============================] - 0s 7ms/step - loss: 168.7283 - mae: 9.8906 - val_loss: 183.9944 - val_mae: 10.6079\n",
            "Epoch 18/50\n",
            "3/3 [==============================] - 0s 6ms/step - loss: 156.1930 - mae: 9.5001 - val_loss: 169.3709 - val_mae: 10.1593\n",
            "Epoch 19/50\n",
            "3/3 [==============================] - 0s 6ms/step - loss: 145.7806 - mae: 9.1912 - val_loss: 157.7875 - val_mae: 9.7970\n",
            "Epoch 20/50\n",
            "3/3 [==============================] - 0s 7ms/step - loss: 137.7896 - mae: 8.9212 - val_loss: 148.3600 - val_mae: 9.4797\n",
            "Epoch 21/50\n",
            "3/3 [==============================] - 0s 6ms/step - loss: 131.2900 - mae: 8.6715 - val_loss: 140.4555 - val_mae: 9.1849\n",
            "Epoch 22/50\n",
            "3/3 [==============================] - 0s 7ms/step - loss: 125.7214 - mae: 8.4617 - val_loss: 132.4503 - val_mae: 8.8890\n",
            "Epoch 23/50\n",
            "3/3 [==============================] - 0s 8ms/step - loss: 120.7495 - mae: 8.2808 - val_loss: 126.2964 - val_mae: 8.6687\n",
            "Epoch 24/50\n",
            "3/3 [==============================] - 0s 7ms/step - loss: 116.2321 - mae: 8.1119 - val_loss: 122.1489 - val_mae: 8.4856\n",
            "Epoch 25/50\n",
            "3/3 [==============================] - 0s 6ms/step - loss: 112.1569 - mae: 7.9225 - val_loss: 116.6535 - val_mae: 8.2763\n",
            "Epoch 26/50\n",
            "3/3 [==============================] - 0s 6ms/step - loss: 107.9215 - mae: 7.7589 - val_loss: 111.4534 - val_mae: 8.0578\n",
            "Epoch 27/50\n",
            "3/3 [==============================] - 0s 6ms/step - loss: 103.8381 - mae: 7.5979 - val_loss: 107.7025 - val_mae: 7.8749\n",
            "Epoch 28/50\n",
            "3/3 [==============================] - 0s 7ms/step - loss: 100.3830 - mae: 7.4461 - val_loss: 103.1290 - val_mae: 7.6683\n",
            "Epoch 29/50\n",
            "3/3 [==============================] - 0s 6ms/step - loss: 96.4187 - mae: 7.2924 - val_loss: 99.4487 - val_mae: 7.4711\n",
            "Epoch 30/50\n",
            "3/3 [==============================] - 0s 7ms/step - loss: 92.6283 - mae: 7.0940 - val_loss: 95.1173 - val_mae: 7.2678\n",
            "Epoch 31/50\n",
            "3/3 [==============================] - 0s 7ms/step - loss: 89.0568 - mae: 6.9394 - val_loss: 91.2259 - val_mae: 7.0954\n",
            "Epoch 32/50\n",
            "3/3 [==============================] - 0s 7ms/step - loss: 86.2252 - mae: 6.8050 - val_loss: 88.6183 - val_mae: 6.9371\n",
            "Epoch 33/50\n",
            "3/3 [==============================] - 0s 6ms/step - loss: 83.3206 - mae: 6.6565 - val_loss: 86.9231 - val_mae: 6.7989\n",
            "Epoch 34/50\n",
            "3/3 [==============================] - 0s 7ms/step - loss: 80.1790 - mae: 6.4327 - val_loss: 82.5359 - val_mae: 6.6275\n",
            "Epoch 35/50\n",
            "3/3 [==============================] - 0s 6ms/step - loss: 77.0799 - mae: 6.3507 - val_loss: 80.9664 - val_mae: 6.4910\n",
            "Epoch 36/50\n",
            "3/3 [==============================] - 0s 6ms/step - loss: 74.7708 - mae: 6.1937 - val_loss: 78.2999 - val_mae: 6.3555\n",
            "Epoch 37/50\n",
            "3/3 [==============================] - 0s 6ms/step - loss: 72.2094 - mae: 6.0396 - val_loss: 74.5212 - val_mae: 6.2345\n",
            "Epoch 38/50\n",
            "3/3 [==============================] - 0s 6ms/step - loss: 70.6828 - mae: 5.9863 - val_loss: 72.3892 - val_mae: 6.1311\n",
            "Epoch 39/50\n",
            "3/3 [==============================] - 0s 6ms/step - loss: 67.9332 - mae: 5.9098 - val_loss: 71.3034 - val_mae: 5.9841\n",
            "Epoch 40/50\n",
            "3/3 [==============================] - 0s 6ms/step - loss: 66.0558 - mae: 5.7432 - val_loss: 68.7280 - val_mae: 5.8982\n",
            "Epoch 41/50\n",
            "3/3 [==============================] - 0s 7ms/step - loss: 63.8138 - mae: 5.6121 - val_loss: 66.2299 - val_mae: 5.8041\n",
            "Epoch 42/50\n",
            "3/3 [==============================] - 0s 6ms/step - loss: 62.2548 - mae: 5.5364 - val_loss: 63.4820 - val_mae: 5.7518\n",
            "Epoch 43/50\n",
            "3/3 [==============================] - 0s 7ms/step - loss: 60.9969 - mae: 5.5829 - val_loss: 62.3281 - val_mae: 5.6271\n",
            "Epoch 44/50\n",
            "3/3 [==============================] - 0s 6ms/step - loss: 59.0849 - mae: 5.4803 - val_loss: 62.2037 - val_mae: 5.5221\n",
            "Epoch 45/50\n",
            "3/3 [==============================] - 0s 6ms/step - loss: 57.9187 - mae: 5.3231 - val_loss: 61.0355 - val_mae: 5.4497\n",
            "Epoch 46/50\n",
            "3/3 [==============================] - 0s 6ms/step - loss: 56.9263 - mae: 5.2814 - val_loss: 59.6594 - val_mae: 5.3740\n",
            "Epoch 47/50\n",
            "3/3 [==============================] - 0s 6ms/step - loss: 55.9104 - mae: 5.2096 - val_loss: 59.4974 - val_mae: 5.3044\n",
            "Epoch 48/50\n",
            "3/3 [==============================] - 0s 6ms/step - loss: 55.1965 - mae: 5.1741 - val_loss: 58.6460 - val_mae: 5.2322\n",
            "Epoch 49/50\n",
            "3/3 [==============================] - 0s 6ms/step - loss: 53.7171 - mae: 5.0448 - val_loss: 56.0622 - val_mae: 5.1949\n",
            "Epoch 50/50\n",
            "3/3 [==============================] - 0s 7ms/step - loss: 52.9615 - mae: 5.0848 - val_loss: 54.5897 - val_mae: 5.1696\n"
          ],
          "name": "stdout"
        }
      ]
    },
    {
      "cell_type": "code",
      "metadata": {
        "id": "F8ZzP2zFroAh",
        "outputId": "aa487b7f-0267-41b8-b0c0-c030e1b3d64f",
        "colab": {
          "base_uri": "https://localhost:8080/",
          "height": 52
        }
      },
      "source": [
        "\n",
        "score = model.evaluate(x_test, test_targets, verbose=0)\n",
        "print(\"Test loss:\", score[0])\n",
        "print(\"Test mae:\", score[1])"
      ],
      "execution_count": 67,
      "outputs": [
        {
          "output_type": "stream",
          "text": [
            "Test loss: 56.43768310546875\n",
            "Test mae: 5.516578674316406\n"
          ],
          "name": "stdout"
        }
      ]
    },
    {
      "cell_type": "code",
      "metadata": {
        "id": "nlTFulAisAy2",
        "outputId": "587a74f2-014d-4c2f-fdcc-7b277bcbc30c",
        "colab": {
          "base_uri": "https://localhost:8080/",
          "height": 295
        }
      },
      "source": [
        "import matplotlib.pyplot as plt\n",
        "history_dict = history.history\n",
        "loss_values = history_dict['loss']\n",
        "val_loss_values = history_dict['val_loss']\n",
        "epochs = range(1, len(loss_values) + 1)\n",
        "plt.plot(epochs, loss_values, 'bo', label='Training loss')\n",
        "plt.plot(epochs, val_loss_values, 'b', label='Validation loss')\n",
        "plt.title('Training and validation loss')\n",
        "plt.xlabel('Epochs')\n",
        "plt.ylabel('Loss')\n",
        "plt.legend()\n",
        "plt.show()"
      ],
      "execution_count": 69,
      "outputs": [
        {
          "output_type": "display_data",
          "data": {
            "image/png": "[encoded data removed]",
            "text/plain": [
              "<Figure size 432x288 with 1 Axes>"
            ]
          },
          "metadata": {
            "tags": [],
            "needs_background": "light"
          }
        }
      ]
    },
    {
      "cell_type": "code",
      "metadata": {
        "id": "aUtgobyTuBUv",
        "outputId": "ca7c4df3-1a67-407d-8645-e86a141ef764",
        "colab": {
          "base_uri": "https://localhost:8080/",
          "height": 295
        }
      },
      "source": [
        "plt.clf() #Clears the figure\n",
        "acc = history_dict['mae']\n",
        "val_acc = history_dict['val_mae']\n",
        "plt.plot(epochs, acc, 'bo', label='Training mae')\n",
        "plt.plot(epochs, val_acc, 'b', label='Validation mae')\n",
        "plt.title('Training and validation mae')\n",
        "plt.xlabel('Epochs')\n",
        "plt.ylabel('mae')\n",
        "plt.legend()\n",
        "plt.show()"
      ],
      "execution_count": 70,
      "outputs": [
        {
          "output_type": "display_data",
          "data": {
            "image/png": "[encoded data removed]",
            "text/plain": [
              "<Figure size 432x288 with 1 Axes>"
            ]
          },
          "metadata": {
            "tags": [],
            "needs_background": "light"
          }
        }
      ]
    },
    {
      "cell_type": "markdown",
      "metadata": {
        "id": "Ng_ZOBdXf5G0"
      },
      "source": [
        "Final mae of 5,5 on test set"
      ]
    },
    {
      "cell_type": "markdown",
      "metadata": {
        "id": "XTnFZMgd_TEL"
      },
      "source": [
        "Skip this part because it's not what the teacher did"
      ]
    },
    {
      "cell_type": "markdown",
      "metadata": {
        "id": "aZKv5Q-kx6ZD"
      },
      "source": [
        "Hyperparameter tuning ( number of epochs, batch size, optimizer)  using cross validation , here I use gridsearch and buit in cross validation (3-fold), It takes quite a long time to run ( Skip this part because it's not what the teacher did))"
      ]
    },
    {
      "cell_type": "code",
      "metadata": {
        "id": "NmVq0xyBwTwn",
        "outputId": "b587c5e5-2e14-437e-9d4a-b36057e543d1",
        "colab": {
          "base_uri": "https://localhost:8080/",
          "height": 1000
        }
      },
      "source": [
        "from keras.wrappers.scikit_learn import KerasRegressor\n",
        "from sklearn.model_selection import GridSearchCV\n",
        "model = KerasRegressor(build_fn=build_model)\n",
        "batch_size = [10, 20, 40, 60, 80, 100]\n",
        "optimizer = ['SGD', 'RMSprop', 'Adagrad', 'Adadelta', 'Adam', 'Adamax', 'Nadam']\n",
        "param_grid = dict(epochs=[50,80,100],batch_size = batch_size, optimizer = optimizer)\n",
        "grid = GridSearchCV(estimator=model, param_grid=param_grid, n_jobs=-1, cv=3)\n",
        "grid_result = grid.fit(x_train, train_targets)"
      ],
      "execution_count": 90,
      "outputs": [
        {
          "output_type": "stream",
          "text": [
            "Epoch 1/100\n",
            "41/41 [==============================] - 0s 1ms/step - loss: 483.6672 - mae: 19.8062\n",
            "Epoch 2/100\n",
            "41/41 [==============================] - 0s 1ms/step - loss: 220.0568 - mae: 11.5671\n",
            "Epoch 3/100\n",
            "41/41 [==============================] - 0s 1ms/step - loss: 119.6413 - mae: 8.3596\n",
            "Epoch 4/100\n",
            "41/41 [==============================] - 0s 1ms/step - loss: 88.0651 - mae: 6.8665\n",
            "Epoch 5/100\n",
            "41/41 [==============================] - 0s 1ms/step - loss: 66.2607 - mae: 5.7391\n",
            "Epoch 6/100\n",
            "41/41 [==============================] - 0s 1ms/step - loss: 54.4131 - mae: 5.1563\n",
            "Epoch 7/100\n",
            "41/41 [==============================] - 0s 1ms/step - loss: 48.5044 - mae: 4.8016\n",
            "Epoch 8/100\n",
            "41/41 [==============================] - 0s 1ms/step - loss: 44.4481 - mae: 4.6411\n",
            "Epoch 9/100\n",
            "41/41 [==============================] - 0s 1ms/step - loss: 40.4129 - mae: 4.4211\n",
            "Epoch 10/100\n",
            "41/41 [==============================] - 0s 1ms/step - loss: 37.3673 - mae: 4.2642\n",
            "Epoch 11/100\n",
            "41/41 [==============================] - 0s 1ms/step - loss: 34.3781 - mae: 4.1207\n",
            "Epoch 12/100\n",
            "41/41 [==============================] - 0s 1ms/step - loss: 32.3164 - mae: 3.9185\n",
            "Epoch 13/100\n",
            "41/41 [==============================] - 0s 1ms/step - loss: 29.3839 - mae: 3.7628\n",
            "Epoch 14/100\n",
            "41/41 [==============================] - 0s 1ms/step - loss: 27.1089 - mae: 3.6250\n",
            "Epoch 15/100\n",
            "41/41 [==============================] - 0s 1ms/step - loss: 25.6662 - mae: 3.4887\n",
            "Epoch 16/100\n",
            "41/41 [==============================] - 0s 1ms/step - loss: 24.0449 - mae: 3.4081\n",
            "Epoch 17/100\n",
            "41/41 [==============================] - 0s 1ms/step - loss: 23.1649 - mae: 3.3562\n",
            "Epoch 18/100\n",
            "41/41 [==============================] - 0s 1ms/step - loss: 22.7733 - mae: 3.3295\n",
            "Epoch 19/100\n",
            "41/41 [==============================] - 0s 1ms/step - loss: 21.6577 - mae: 3.2277\n",
            "Epoch 20/100\n",
            "41/41 [==============================] - 0s 1ms/step - loss: 21.2059 - mae: 3.1855\n",
            "Epoch 21/100\n",
            "41/41 [==============================] - 0s 1ms/step - loss: 20.4984 - mae: 3.1688\n",
            "Epoch 22/100\n",
            "41/41 [==============================] - 0s 1ms/step - loss: 19.8239 - mae: 3.1115\n",
            "Epoch 23/100\n",
            "41/41 [==============================] - 0s 1ms/step - loss: 20.5320 - mae: 3.1748\n",
            "Epoch 24/100\n",
            "41/41 [==============================] - 0s 1ms/step - loss: 19.4480 - mae: 3.0216\n",
            "Epoch 25/100\n",
            "41/41 [==============================] - 0s 1ms/step - loss: 18.9091 - mae: 3.0309\n",
            "Epoch 26/100\n",
            "41/41 [==============================] - 0s 999us/step - loss: 18.6990 - mae: 3.0353\n",
            "Epoch 27/100\n",
            "41/41 [==============================] - 0s 997us/step - loss: 19.4919 - mae: 3.0712\n",
            "Epoch 28/100\n",
            "41/41 [==============================] - 0s 1ms/step - loss: 18.6608 - mae: 3.0265\n",
            "Epoch 29/100\n",
            "41/41 [==============================] - 0s 1ms/step - loss: 17.8022 - mae: 2.9389\n",
            "Epoch 30/100\n",
            "41/41 [==============================] - 0s 1ms/step - loss: 17.6968 - mae: 2.9258\n",
            "Epoch 31/100\n",
            "41/41 [==============================] - 0s 1ms/step - loss: 17.4544 - mae: 2.9754\n",
            "Epoch 32/100\n",
            "41/41 [==============================] - 0s 1ms/step - loss: 17.4147 - mae: 2.9474\n",
            "Epoch 33/100\n",
            "41/41 [==============================] - 0s 1ms/step - loss: 17.5146 - mae: 2.9572\n",
            "Epoch 34/100\n",
            "41/41 [==============================] - 0s 1ms/step - loss: 17.1810 - mae: 2.9272\n",
            "Epoch 35/100\n",
            "41/41 [==============================] - 0s 1ms/step - loss: 16.1386 - mae: 2.8104\n",
            "Epoch 36/100\n",
            "41/41 [==============================] - 0s 1ms/step - loss: 16.2885 - mae: 2.7964\n",
            "Epoch 37/100\n",
            "41/41 [==============================] - 0s 1ms/step - loss: 15.7087 - mae: 2.8266\n",
            "Epoch 38/100\n",
            "41/41 [==============================] - 0s 1ms/step - loss: 15.7710 - mae: 2.7927\n",
            "Epoch 39/100\n",
            "41/41 [==============================] - 0s 1ms/step - loss: 15.4212 - mae: 2.7495\n",
            "Epoch 40/100\n",
            "41/41 [==============================] - 0s 1ms/step - loss: 15.2643 - mae: 2.7397\n",
            "Epoch 41/100\n",
            "41/41 [==============================] - 0s 1ms/step - loss: 15.0216 - mae: 2.7346\n",
            "Epoch 42/100\n",
            "41/41 [==============================] - 0s 1ms/step - loss: 14.6152 - mae: 2.6510\n",
            "Epoch 43/100\n",
            "41/41 [==============================] - 0s 1ms/step - loss: 14.5249 - mae: 2.6964\n",
            "Epoch 44/100\n",
            "41/41 [==============================] - 0s 1ms/step - loss: 14.3267 - mae: 2.6464\n",
            "Epoch 45/100\n",
            "41/41 [==============================] - 0s 1ms/step - loss: 14.3296 - mae: 2.6987\n",
            "Epoch 46/100\n",
            "41/41 [==============================] - 0s 1ms/step - loss: 13.9378 - mae: 2.6151\n",
            "Epoch 47/100\n",
            "41/41 [==============================] - 0s 1ms/step - loss: 14.1305 - mae: 2.6213\n",
            "Epoch 48/100\n",
            "41/41 [==============================] - 0s 1ms/step - loss: 13.8917 - mae: 2.6530\n",
            "Epoch 49/100\n",
            "41/41 [==============================] - 0s 1ms/step - loss: 13.3998 - mae: 2.5145\n",
            "Epoch 50/100\n",
            "41/41 [==============================] - 0s 1ms/step - loss: 13.2669 - mae: 2.5437\n",
            "Epoch 51/100\n",
            "41/41 [==============================] - 0s 1ms/step - loss: 13.9671 - mae: 2.6359\n",
            "Epoch 52/100\n",
            "41/41 [==============================] - 0s 1ms/step - loss: 13.0099 - mae: 2.5393\n",
            "Epoch 53/100\n",
            "41/41 [==============================] - 0s 1ms/step - loss: 12.4735 - mae: 2.4624\n",
            "Epoch 54/100\n",
            "41/41 [==============================] - 0s 1ms/step - loss: 12.5684 - mae: 2.4855\n",
            "Epoch 55/100\n",
            "41/41 [==============================] - 0s 1ms/step - loss: 12.1954 - mae: 2.4593\n",
            "Epoch 56/100\n",
            "41/41 [==============================] - 0s 1ms/step - loss: 12.1302 - mae: 2.4167\n",
            "Epoch 57/100\n",
            "41/41 [==============================] - 0s 1ms/step - loss: 11.8482 - mae: 2.4212\n",
            "Epoch 58/100\n",
            "41/41 [==============================] - 0s 1ms/step - loss: 12.0084 - mae: 2.4418\n",
            "Epoch 59/100\n",
            "41/41 [==============================] - 0s 1ms/step - loss: 11.6377 - mae: 2.4349\n",
            "Epoch 60/100\n",
            "41/41 [==============================] - 0s 1ms/step - loss: 12.1366 - mae: 2.4513\n",
            "Epoch 61/100\n",
            "41/41 [==============================] - 0s 1ms/step - loss: 11.6921 - mae: 2.4025\n",
            "Epoch 62/100\n",
            "41/41 [==============================] - 0s 1ms/step - loss: 11.5450 - mae: 2.3805\n",
            "Epoch 63/100\n",
            "41/41 [==============================] - 0s 1ms/step - loss: 11.3483 - mae: 2.3535\n",
            "Epoch 64/100\n",
            "41/41 [==============================] - 0s 1ms/step - loss: 11.2472 - mae: 2.3523\n",
            "Epoch 65/100\n",
            "41/41 [==============================] - 0s 1ms/step - loss: 11.5261 - mae: 2.4529\n",
            "Epoch 66/100\n",
            "41/41 [==============================] - 0s 1ms/step - loss: 11.0270 - mae: 2.3265\n",
            "Epoch 67/100\n",
            "41/41 [==============================] - 0s 1ms/step - loss: 10.8312 - mae: 2.3055\n",
            "Epoch 68/100\n",
            "41/41 [==============================] - 0s 1ms/step - loss: 10.7171 - mae: 2.3123\n",
            "Epoch 69/100\n",
            "41/41 [==============================] - 0s 1ms/step - loss: 10.6623 - mae: 2.3135\n",
            "Epoch 70/100\n",
            "41/41 [==============================] - 0s 1ms/step - loss: 10.6032 - mae: 2.3370\n",
            "Epoch 71/100\n",
            "41/41 [==============================] - 0s 1ms/step - loss: 10.5749 - mae: 2.3171\n",
            "Epoch 72/100\n",
            "41/41 [==============================] - 0s 1ms/step - loss: 10.3691 - mae: 2.2977\n",
            "Epoch 73/100\n",
            "41/41 [==============================] - 0s 1ms/step - loss: 10.1928 - mae: 2.2581\n",
            "Epoch 74/100\n",
            "41/41 [==============================] - 0s 1ms/step - loss: 10.1311 - mae: 2.2482\n",
            "Epoch 75/100\n",
            "41/41 [==============================] - 0s 1ms/step - loss: 10.1514 - mae: 2.3002\n",
            "Epoch 76/100\n",
            "41/41 [==============================] - 0s 1ms/step - loss: 10.1212 - mae: 2.2396\n",
            "Epoch 77/100\n",
            "41/41 [==============================] - 0s 1ms/step - loss: 9.8724 - mae: 2.2443\n",
            "Epoch 78/100\n",
            "41/41 [==============================] - 0s 1ms/step - loss: 10.1944 - mae: 2.2672\n",
            "Epoch 79/100\n",
            "41/41 [==============================] - 0s 1ms/step - loss: 9.7274 - mae: 2.2158\n",
            "Epoch 80/100\n",
            "41/41 [==============================] - 0s 1ms/step - loss: 9.8780 - mae: 2.2762\n",
            "Epoch 81/100\n",
            "41/41 [==============================] - 0s 1ms/step - loss: 10.0967 - mae: 2.3010\n",
            "Epoch 82/100\n",
            "41/41 [==============================] - 0s 1ms/step - loss: 9.7010 - mae: 2.1972\n",
            "Epoch 83/100\n",
            "41/41 [==============================] - 0s 1ms/step - loss: 10.0117 - mae: 2.2600\n",
            "Epoch 84/100\n",
            "41/41 [==============================] - 0s 1ms/step - loss: 9.7988 - mae: 2.2351\n",
            "Epoch 85/100\n",
            "41/41 [==============================] - 0s 1ms/step - loss: 9.4726 - mae: 2.2083\n",
            "Epoch 86/100\n",
            "41/41 [==============================] - 0s 1ms/step - loss: 9.5221 - mae: 2.1516\n",
            "Epoch 87/100\n",
            "41/41 [==============================] - 0s 1ms/step - loss: 9.8571 - mae: 2.2680\n",
            "Epoch 88/100\n",
            "41/41 [==============================] - 0s 1ms/step - loss: 9.5548 - mae: 2.2143\n",
            "Epoch 89/100\n",
            "41/41 [==============================] - 0s 1ms/step - loss: 9.4059 - mae: 2.1984\n",
            "Epoch 90/100\n",
            "41/41 [==============================] - 0s 1ms/step - loss: 9.1731 - mae: 2.1548\n",
            "Epoch 91/100\n",
            "41/41 [==============================] - 0s 1ms/step - loss: 9.4593 - mae: 2.2555\n",
            "Epoch 92/100\n",
            "41/41 [==============================] - 0s 1ms/step - loss: 8.9424 - mae: 2.1259\n",
            "Epoch 93/100\n",
            "41/41 [==============================] - 0s 1ms/step - loss: 9.1642 - mae: 2.1598\n",
            "Epoch 94/100\n",
            "41/41 [==============================] - 0s 1ms/step - loss: 9.4438 - mae: 2.2208\n",
            "Epoch 95/100\n",
            "41/41 [==============================] - 0s 1ms/step - loss: 9.1626 - mae: 2.1419\n",
            "Epoch 96/100\n",
            "41/41 [==============================] - 0s 1ms/step - loss: 9.0016 - mae: 2.1604\n",
            "Epoch 97/100\n",
            "41/41 [==============================] - 0s 1ms/step - loss: 8.9497 - mae: 2.1634\n",
            "Epoch 98/100\n",
            "41/41 [==============================] - 0s 1ms/step - loss: 9.1625 - mae: 2.1624\n",
            "Epoch 99/100\n",
            "41/41 [==============================] - 0s 1ms/step - loss: 8.9998 - mae: 2.1491\n",
            "Epoch 100/100\n",
            "41/41 [==============================] - 0s 1ms/step - loss: 8.9786 - mae: 2.1461\n"
          ],
          "name": "stdout"
        }
      ]
    },
    {
      "cell_type": "code",
      "metadata": {
        "id": "Cib0KzWjy6Cc",
        "outputId": "16496c01-4ba8-447b-dedd-8c39df4f069b",
        "colab": {
          "base_uri": "https://localhost:8080/",
          "height": 1000
        }
      },
      "source": [
        "print(\"Best: %f using %s\" % (grid_result.best_score_, grid_result.best_params_))\n",
        "means = grid_result.cv_results_['mean_test_score']\n",
        "stds = grid_result.cv_results_['std_test_score']\n",
        "params = grid_result.cv_results_['params']\n",
        "for mean, stdev, param in zip(means, stds, params):\n",
        "    print(\"%f (%f) with: %r\" % (mean, stdev, param))"
      ],
      "execution_count": 94,
      "outputs": [
        {
          "output_type": "stream",
          "text": [
            "Best: -12.177128 using {'batch_size': 10, 'epochs': 100, 'optimizer': 'Adam'}\n",
            "-52.970475 (34.891389) with: {'batch_size': 10, 'epochs': 50, 'optimizer': 'SGD'}\n",
            "-18.309491 (2.306826) with: {'batch_size': 10, 'epochs': 50, 'optimizer': 'RMSprop'}\n",
            "-169.834310 (37.675634) with: {'batch_size': 10, 'epochs': 50, 'optimizer': 'Adagrad'}\n",
            "-579.879517 (53.717030) with: {'batch_size': 10, 'epochs': 50, 'optimizer': 'Adadelta'}\n",
            "-17.163395 (2.827238) with: {'batch_size': 10, 'epochs': 50, 'optimizer': 'Adam'}\n",
            "-33.206408 (9.555573) with: {'batch_size': 10, 'epochs': 50, 'optimizer': 'Adamax'}\n",
            "-17.405756 (2.658802) with: {'batch_size': 10, 'epochs': 50, 'optimizer': 'Nadam'}\n",
            "-20.360068 (3.474340) with: {'batch_size': 10, 'epochs': 80, 'optimizer': 'SGD'}\n",
            "-14.463805 (2.705325) with: {'batch_size': 10, 'epochs': 80, 'optimizer': 'RMSprop'}\n",
            "-127.520546 (24.625031) with: {'batch_size': 10, 'epochs': 80, 'optimizer': 'Adagrad'}\n",
            "-568.753855 (44.396246) with: {'batch_size': 10, 'epochs': 80, 'optimizer': 'Adadelta'}\n",
            "-13.544825 (1.718702) with: {'batch_size': 10, 'epochs': 80, 'optimizer': 'Adam'}\n",
            "-24.912336 (4.862513) with: {'batch_size': 10, 'epochs': 80, 'optimizer': 'Adamax'}\n",
            "-13.767829 (3.258533) with: {'batch_size': 10, 'epochs': 80, 'optimizer': 'Nadam'}\n",
            "-21.364451 (5.180330) with: {'batch_size': 10, 'epochs': 100, 'optimizer': 'SGD'}\n",
            "-14.030131 (1.396346) with: {'batch_size': 10, 'epochs': 100, 'optimizer': 'RMSprop'}\n",
            "-110.056847 (19.967656) with: {'batch_size': 10, 'epochs': 100, 'optimizer': 'Adagrad'}\n",
            "-571.421448 (44.516469) with: {'batch_size': 10, 'epochs': 100, 'optimizer': 'Adadelta'}\n",
            "-12.177128 (2.542294) with: {'batch_size': 10, 'epochs': 100, 'optimizer': 'Adam'}\n",
            "-22.181069 (3.798296) with: {'batch_size': 10, 'epochs': 100, 'optimizer': 'Adamax'}\n",
            "-12.920102 (2.083566) with: {'batch_size': 10, 'epochs': 100, 'optimizer': 'Nadam'}\n",
            "-18.101150 (3.677041) with: {'batch_size': 20, 'epochs': 50, 'optimizer': 'SGD'}\n",
            "-23.044539 (2.721621) with: {'batch_size': 20, 'epochs': 50, 'optimizer': 'RMSprop'}\n",
            "-275.099045 (20.578594) with: {'batch_size': 20, 'epochs': 50, 'optimizer': 'Adagrad'}\n",
            "-579.647481 (46.145102) with: {'batch_size': 20, 'epochs': 50, 'optimizer': 'Adadelta'}\n",
            "-22.296899 (3.371889) with: {'batch_size': 20, 'epochs': 50, 'optimizer': 'Adam'}\n",
            "-47.141626 (12.424907) with: {'batch_size': 20, 'epochs': 50, 'optimizer': 'Adamax'}\n",
            "-22.981141 (5.451592) with: {'batch_size': 20, 'epochs': 50, 'optimizer': 'Nadam'}\n",
            "-17.000456 (4.370238) with: {'batch_size': 20, 'epochs': 80, 'optimizer': 'SGD'}\n",
            "-19.780775 (3.416919) with: {'batch_size': 20, 'epochs': 80, 'optimizer': 'RMSprop'}\n",
            "-207.768407 (28.826109) with: {'batch_size': 20, 'epochs': 80, 'optimizer': 'Adagrad'}\n",
            "-589.480428 (53.296488) with: {'batch_size': 20, 'epochs': 80, 'optimizer': 'Adadelta'}\n",
            "-18.432757 (3.887473) with: {'batch_size': 20, 'epochs': 80, 'optimizer': 'Adam'}\n",
            "-33.443981 (7.698588) with: {'batch_size': 20, 'epochs': 80, 'optimizer': 'Adamax'}\n",
            "-20.121311 (4.097538) with: {'batch_size': 20, 'epochs': 80, 'optimizer': 'Nadam'}\n",
            "-22.639422 (2.985618) with: {'batch_size': 20, 'epochs': 100, 'optimizer': 'SGD'}\n",
            "-16.089356 (3.710696) with: {'batch_size': 20, 'epochs': 100, 'optimizer': 'RMSprop'}\n",
            "-154.565524 (21.249376) with: {'batch_size': 20, 'epochs': 100, 'optimizer': 'Adagrad'}\n",
            "-567.550690 (49.166975) with: {'batch_size': 20, 'epochs': 100, 'optimizer': 'Adadelta'}\n",
            "-16.258689 (2.688289) with: {'batch_size': 20, 'epochs': 100, 'optimizer': 'Adam'}\n",
            "-27.965309 (6.262005) with: {'batch_size': 20, 'epochs': 100, 'optimizer': 'Adamax'}\n",
            "-17.374381 (4.492490) with: {'batch_size': 20, 'epochs': 100, 'optimizer': 'Nadam'}\n",
            "-21.603703 (4.541019) with: {'batch_size': 40, 'epochs': 50, 'optimizer': 'SGD'}\n",
            "-34.141490 (3.361373) with: {'batch_size': 40, 'epochs': 50, 'optimizer': 'RMSprop'}\n",
            "-428.402466 (31.360030) with: {'batch_size': 40, 'epochs': 50, 'optimizer': 'Adagrad'}\n",
            "-578.127930 (44.064662) with: {'batch_size': 40, 'epochs': 50, 'optimizer': 'Adadelta'}\n",
            "-36.695401 (8.438572) with: {'batch_size': 40, 'epochs': 50, 'optimizer': 'Adam'}\n",
            "-65.538019 (13.465363) with: {'batch_size': 40, 'epochs': 50, 'optimizer': 'Adamax'}\n",
            "-32.933416 (7.103935) with: {'batch_size': 40, 'epochs': 50, 'optimizer': 'Nadam'}\n",
            "-28.611144 (10.326797) with: {'batch_size': 40, 'epochs': 80, 'optimizer': 'SGD'}\n",
            "-22.856792 (4.687177) with: {'batch_size': 40, 'epochs': 80, 'optimizer': 'RMSprop'}\n",
            "-331.346903 (17.159145) with: {'batch_size': 40, 'epochs': 80, 'optimizer': 'Adagrad'}\n",
            "-590.988200 (42.874085) with: {'batch_size': 40, 'epochs': 80, 'optimizer': 'Adadelta'}\n",
            "-25.526368 (6.158870) with: {'batch_size': 40, 'epochs': 80, 'optimizer': 'Adam'}\n",
            "-45.790132 (12.914752) with: {'batch_size': 40, 'epochs': 80, 'optimizer': 'Adamax'}\n",
            "-25.749907 (4.741492) with: {'batch_size': 40, 'epochs': 80, 'optimizer': 'Nadam'}\n",
            "-28.522178 (11.764736) with: {'batch_size': 40, 'epochs': 100, 'optimizer': 'SGD'}\n",
            "-21.639536 (3.127014) with: {'batch_size': 40, 'epochs': 100, 'optimizer': 'RMSprop'}\n",
            "-225.182576 (45.633800) with: {'batch_size': 40, 'epochs': 100, 'optimizer': 'Adagrad'}\n",
            "-578.372538 (43.402652) with: {'batch_size': 40, 'epochs': 100, 'optimizer': 'Adadelta'}\n",
            "-21.527406 (4.138358) with: {'batch_size': 40, 'epochs': 100, 'optimizer': 'Adam'}\n",
            "-40.938393 (15.305790) with: {'batch_size': 40, 'epochs': 100, 'optimizer': 'Adamax'}\n",
            "-20.988058 (3.862945) with: {'batch_size': 40, 'epochs': 100, 'optimizer': 'Nadam'}\n",
            "-33.924407 (12.973395) with: {'batch_size': 60, 'epochs': 50, 'optimizer': 'SGD'}\n",
            "-44.213946 (9.856076) with: {'batch_size': 60, 'epochs': 50, 'optimizer': 'RMSprop'}\n",
            "-459.943837 (43.069092) with: {'batch_size': 60, 'epochs': 50, 'optimizer': 'Adagrad'}\n",
            "-577.273966 (49.077212) with: {'batch_size': 60, 'epochs': 50, 'optimizer': 'Adadelta'}\n",
            "-45.558810 (11.138648) with: {'batch_size': 60, 'epochs': 50, 'optimizer': 'Adam'}\n",
            "-86.052310 (13.317688) with: {'batch_size': 60, 'epochs': 50, 'optimizer': 'Adamax'}\n",
            "-45.698960 (14.017656) with: {'batch_size': 60, 'epochs': 50, 'optimizer': 'Nadam'}\n",
            "-26.855044 (12.257432) with: {'batch_size': 60, 'epochs': 80, 'optimizer': 'SGD'}\n",
            "-25.178181 (4.287050) with: {'batch_size': 60, 'epochs': 80, 'optimizer': 'RMSprop'}\n",
            "-370.365824 (56.197219) with: {'batch_size': 60, 'epochs': 80, 'optimizer': 'Adagrad'}\n",
            "-585.776754 (52.962074) with: {'batch_size': 60, 'epochs': 80, 'optimizer': 'Adadelta'}\n",
            "-29.267576 (7.830715) with: {'batch_size': 60, 'epochs': 80, 'optimizer': 'Adam'}\n",
            "-55.541948 (10.913437) with: {'batch_size': 60, 'epochs': 80, 'optimizer': 'Adamax'}\n",
            "-28.047051 (8.138829) with: {'batch_size': 60, 'epochs': 80, 'optimizer': 'Nadam'}\n",
            "-27.729255 (16.939095) with: {'batch_size': 60, 'epochs': 100, 'optimizer': 'SGD'}\n",
            "-23.384502 (2.974874) with: {'batch_size': 60, 'epochs': 100, 'optimizer': 'RMSprop'}\n",
            "-303.895030 (13.758454) with: {'batch_size': 60, 'epochs': 100, 'optimizer': 'Adagrad'}\n",
            "-585.912109 (59.328485) with: {'batch_size': 60, 'epochs': 100, 'optimizer': 'Adadelta'}\n",
            "-23.973054 (5.545198) with: {'batch_size': 60, 'epochs': 100, 'optimizer': 'Adam'}\n",
            "-47.413326 (12.200484) with: {'batch_size': 60, 'epochs': 100, 'optimizer': 'Adamax'}\n",
            "-24.464152 (3.390630) with: {'batch_size': 60, 'epochs': 100, 'optimizer': 'Nadam'}\n",
            "-53.450732 (21.688073) with: {'batch_size': 80, 'epochs': 50, 'optimizer': 'SGD'}\n",
            "-45.795353 (8.473856) with: {'batch_size': 80, 'epochs': 50, 'optimizer': 'RMSprop'}\n",
            "-461.655568 (26.175043) with: {'batch_size': 80, 'epochs': 50, 'optimizer': 'Adagrad'}\n",
            "-580.462646 (48.329970) with: {'batch_size': 80, 'epochs': 50, 'optimizer': 'Adadelta'}\n",
            "-55.451239 (11.966675) with: {'batch_size': 80, 'epochs': 50, 'optimizer': 'Adam'}\n",
            "-99.012782 (19.689223) with: {'batch_size': 80, 'epochs': 50, 'optimizer': 'Adamax'}\n",
            "-53.286139 (12.185290) with: {'batch_size': 80, 'epochs': 50, 'optimizer': 'Nadam'}\n",
            "-28.030840 (9.977750) with: {'batch_size': 80, 'epochs': 80, 'optimizer': 'SGD'}\n",
            "-31.966482 (3.829069) with: {'batch_size': 80, 'epochs': 80, 'optimizer': 'RMSprop'}\n",
            "-438.179555 (56.690204) with: {'batch_size': 80, 'epochs': 80, 'optimizer': 'Adagrad'}\n",
            "-580.263265 (53.611660) with: {'batch_size': 80, 'epochs': 80, 'optimizer': 'Adadelta'}\n",
            "-35.952772 (10.294866) with: {'batch_size': 80, 'epochs': 80, 'optimizer': 'Adam'}\n",
            "-60.434132 (15.903249) with: {'batch_size': 80, 'epochs': 80, 'optimizer': 'Adamax'}\n",
            "-35.394608 (10.177611) with: {'batch_size': 80, 'epochs': 80, 'optimizer': 'Nadam'}\n",
            "-20.443754 (7.486735) with: {'batch_size': 80, 'epochs': 100, 'optimizer': 'SGD'}\n",
            "-25.010122 (5.386950) with: {'batch_size': 80, 'epochs': 100, 'optimizer': 'RMSprop'}\n",
            "-374.654307 (70.374000) with: {'batch_size': 80, 'epochs': 100, 'optimizer': 'Adagrad'}\n",
            "-585.512756 (57.942835) with: {'batch_size': 80, 'epochs': 100, 'optimizer': 'Adadelta'}\n",
            "-32.750733 (10.104554) with: {'batch_size': 80, 'epochs': 100, 'optimizer': 'Adam'}\n",
            "-53.718714 (13.952107) with: {'batch_size': 80, 'epochs': 100, 'optimizer': 'Adamax'}\n",
            "-29.444801 (9.826214) with: {'batch_size': 80, 'epochs': 100, 'optimizer': 'Nadam'}\n",
            "-30.832225 (17.981421) with: {'batch_size': 100, 'epochs': 50, 'optimizer': 'SGD'}\n",
            "-53.847616 (10.737374) with: {'batch_size': 100, 'epochs': 50, 'optimizer': 'RMSprop'}\n",
            "-488.784058 (65.074833) with: {'batch_size': 100, 'epochs': 50, 'optimizer': 'Adagrad'}\n",
            "-578.871002 (51.468030) with: {'batch_size': 100, 'epochs': 50, 'optimizer': 'Adadelta'}\n",
            "-63.777307 (10.809112) with: {'batch_size': 100, 'epochs': 50, 'optimizer': 'Adam'}\n",
            "-112.905586 (20.547409) with: {'batch_size': 100, 'epochs': 50, 'optimizer': 'Adamax'}\n",
            "-70.177392 (17.820217) with: {'batch_size': 100, 'epochs': 50, 'optimizer': 'Nadam'}\n",
            "-29.401299 (11.534312) with: {'batch_size': 100, 'epochs': 80, 'optimizer': 'SGD'}\n",
            "-38.237350 (7.365623) with: {'batch_size': 100, 'epochs': 80, 'optimizer': 'RMSprop'}\n",
            "-457.879364 (58.428904) with: {'batch_size': 100, 'epochs': 80, 'optimizer': 'Adagrad'}\n",
            "-580.024790 (58.822656) with: {'batch_size': 100, 'epochs': 80, 'optimizer': 'Adadelta'}\n",
            "-48.361172 (11.883572) with: {'batch_size': 100, 'epochs': 80, 'optimizer': 'Adam'}\n",
            "-68.900977 (13.802854) with: {'batch_size': 100, 'epochs': 80, 'optimizer': 'Adamax'}\n",
            "-48.541167 (14.696022) with: {'batch_size': 100, 'epochs': 80, 'optimizer': 'Nadam'}\n",
            "-22.851846 (12.772154) with: {'batch_size': 100, 'epochs': 100, 'optimizer': 'SGD'}\n",
            "-32.242584 (6.466552) with: {'batch_size': 100, 'epochs': 100, 'optimizer': 'RMSprop'}\n",
            "-444.044281 (68.677983) with: {'batch_size': 100, 'epochs': 100, 'optimizer': 'Adagrad'}\n",
            "-589.499919 (54.627914) with: {'batch_size': 100, 'epochs': 100, 'optimizer': 'Adadelta'}\n",
            "-38.789858 (11.071022) with: {'batch_size': 100, 'epochs': 100, 'optimizer': 'Adam'}\n",
            "-60.815876 (9.814916) with: {'batch_size': 100, 'epochs': 100, 'optimizer': 'Adamax'}\n",
            "-40.021974 (10.706726) with: {'batch_size': 100, 'epochs': 100, 'optimizer': 'Nadam'}\n"
          ],
          "name": "stdout"
        }
      ]
    },
    {
      "cell_type": "markdown",
      "metadata": {
        "id": "4WNpLBbI5qLd"
      },
      "source": [
        "So far the best configuration is {'batch_size': 10, 'epochs': 100, 'optimizer': 'Adam'}"
      ]
    },
    {
      "cell_type": "markdown",
      "metadata": {
        "id": "FP8oVoup4QiF"
      },
      "source": [
        "<br> Cross validation coded from scratch"
      ]
    },
    {
      "cell_type": "code",
      "metadata": {
        "id": "1AZI9E6R0ciF",
        "outputId": "73ec7be0-da23-4d40-a630-5cf2c516efa1",
        "colab": {
          "base_uri": "https://localhost:8080/",
          "height": 349
        }
      },
      "source": [
        "import numpy as np\n",
        "\n",
        "k = 4\n",
        "\n",
        "num_val_samples = len(train_data) // k\n",
        "\n",
        "num_epochs = 100\n",
        "all_mae_histories = []\n",
        "\n",
        "for i in range(k):\n",
        "\n",
        "    print('processing fold #', i)\n",
        "\n",
        "    val_data = train_data[i * num_val_samples: (i + 1) * num_val_samples]\n",
        "\n",
        "    val_targets = train_targets[i * num_val_samples: (i + 1) * num_val_samples]\n",
        "\n",
        "    partial_train_data = np.concatenate([train_data[:i * num_val_samples],train_data[(i + 1) * num_val_samples:]], axis=0)\n",
        "\n",
        "    partial_train_targets = np.concatenate([train_targets[:i * num_val_samples],\n",
        "\n",
        "                                                                  train_targets[(i + 1) * num_val_samples:]], axis=0)\n",
        "\n",
        "    model = build_model()\n",
        "\n",
        "    # history = model.fit(partial_train_data, partial_train_targets,epochs=num_epochs, batch_size=1, verbose=0)\n",
        "    history = model.fit(partial_train_data, partial_train_targets,\n",
        "\n",
        "                               validation_data=(val_data, val_targets),\n",
        "\n",
        "                               epochs=num_epochs, batch_size=10, verbose=0)\n",
        "    # val_mse, val_mae = model.evaluate(val_data, val_targets, verbose=0)\n",
        "    mae_history = history.history['val_mae']\n",
        "    all_mae_histories.append(mae_history)\n",
        "\n",
        "average_mae_history = [np.mean([x[i] for x in all_mae_histories]) for i in range(num_epochs)] \n",
        "import matplotlib.pyplot as plt\n",
        "plt.plot(range(1, len(average_mae_history) + 1),average_mae_history)\n",
        "plt.xlabel('Epochs')\n",
        "plt.ylabel('Validation MAE')\n",
        "plt.show()"
      ],
      "execution_count": 107,
      "outputs": [
        {
          "output_type": "stream",
          "text": [
            "processing fold # 0\n",
            "processing fold # 1\n",
            "processing fold # 2\n",
            "processing fold # 3\n"
          ],
          "name": "stdout"
        },
        {
          "output_type": "display_data",
          "data": {
            "image/png": "[encoded data removed]",
            "text/plain": [
              "<Figure size 432x288 with 1 Axes>"
            ]
          },
          "metadata": {
            "tags": [],
            "needs_background": "light"
          }
        }
      ]
    },
    {
      "cell_type": "code",
      "metadata": {
        "id": "cNH42b_j5Wkv",
        "outputId": "0826f92c-9a08-46db-d399-f4407af08dbb",
        "colab": {
          "base_uri": "https://localhost:8080/",
          "height": 35
        }
      },
      "source": [
        "model = build_model()\n",
        "model.fit(train_data, train_targets, \n",
        "               epochs=80, batch_size=16, verbose=0)\n",
        "test_mse_score, test_mae_score = model.evaluate(test_data, test_targets)"
      ],
      "execution_count": 108,
      "outputs": [
        {
          "output_type": "stream",
          "text": [
            "4/4 [==============================] - 0s 2ms/step - loss: 36.9285 - mae: 4.5057\n"
          ],
          "name": "stdout"
        }
      ]
    },
    {
      "cell_type": "markdown",
      "metadata": {
        "id": "km1f9fbIDbqk"
      },
      "source": [
        "## <center> II- Convolutional neural networks <center>"
      ]
    },
    {
      "cell_type": "markdown",
      "metadata": {
        "id": "ObSXmTDjDnAK"
      },
      "source": [
        "1- MNIST"
      ]
    },
    {
      "cell_type": "markdown",
      "metadata": {
        "id": "8nIIGBrZEneU"
      },
      "source": [
        "Prepare the data as we did in the previous sessions except now  We reshape images into 4D tensors as we are using CNNS"
      ]
    },
    {
      "cell_type": "code",
      "metadata": {
        "id": "g5AHKumZ_dOM",
        "outputId": "58ba1c80-78de-4370-db4b-35234fbb8f2f",
        "colab": {
          "base_uri": "https://localhost:8080/",
          "height": 52
        }
      },
      "source": [
        "from tensorflow.keras.datasets import mnist\n",
        "(train_images, train_labels),(test_images, test_labels) = mnist.load_data()"
      ],
      "execution_count": 2,
      "outputs": [
        {
          "output_type": "stream",
          "text": [
            "Downloading data from https://storage.googleapis.com/tensorflow/tf-keras-datasets/mnist.npz\n",
            "11493376/11490434 [==============================] - 0s 0us/step\n"
          ],
          "name": "stdout"
        }
      ]
    },
    {
      "cell_type": "code",
      "metadata": {
        "id": "_QrrUEKFEP_6",
        "outputId": "cf5d7fe2-1f32-4779-cb8d-de0d8917a1b8",
        "colab": {
          "base_uri": "https://localhost:8080/",
          "height": 35
        }
      },
      "source": [
        "train_images.shape"
      ],
      "execution_count": 3,
      "outputs": [
        {
          "output_type": "execute_result",
          "data": {
            "text/plain": [
              "(60000, 28, 28)"
            ]
          },
          "metadata": {
            "tags": []
          },
          "execution_count": 3
        }
      ]
    },
    {
      "cell_type": "code",
      "metadata": {
        "id": "hhhmm3BGER9h"
      },
      "source": [
        "x_train = train_images.astype(\"float32\") / 255\n",
        "x_test = test_images.astype(\"float32\") / 255"
      ],
      "execution_count": 4,
      "outputs": []
    },
    {
      "cell_type": "markdown",
      "metadata": {
        "id": "KQGs7xLkgOrW"
      },
      "source": [
        "Reshape data into 4d tensors"
      ]
    },
    {
      "cell_type": "code",
      "metadata": {
        "id": "fICwKYefIEBl"
      },
      "source": [
        "x_train = x_train.reshape(x_train.shape[0],28,28,1) ## Specific to CNN\n",
        "x_test = x_test.reshape(x_test.shape[0],28,28,1)"
      ],
      "execution_count": 5,
      "outputs": []
    },
    {
      "cell_type": "markdown",
      "metadata": {
        "id": "fpFHpPQHgT6x"
      },
      "source": [
        "one hot encoding of the 10 classes"
      ]
    },
    {
      "cell_type": "code",
      "metadata": {
        "id": "HuHeJJ1BEWRu"
      },
      "source": [
        "y_train = keras.utils.to_categorical(train_labels, 10) # 10 classes\n",
        "y_test = keras.utils.to_categorical(test_labels, 10)"
      ],
      "execution_count": 6,
      "outputs": []
    },
    {
      "cell_type": "markdown",
      "metadata": {
        "id": "c231J7IHE5F2"
      },
      "source": [
        "Build the model"
      ]
    },
    {
      "cell_type": "code",
      "metadata": {
        "id": "kBppeXcmGCT3"
      },
      "source": [
        "from keras.layers import Dense, Flatten\n",
        "from keras.layers import Conv2D,MaxPooling2D,Dropout"
      ],
      "execution_count": 7,
      "outputs": []
    },
    {
      "cell_type": "code",
      "metadata": {
        "id": "0MsYuPoREget"
      },
      "source": [
        "input_shape = (28,28,1)\n",
        "model = Sequential()\n",
        "\n",
        "model.add(Conv2D(32, kernel_size=(3, 3), activation='relu', input_shape=input_shape))\n",
        "\n",
        "model.add(Conv2D(64, (3, 3), activation='relu'))\n",
        "\n",
        "model.add(Flatten())\n",
        "\n",
        "model.add(Dense(128, activation='relu'))\n",
        "\n",
        "model.add(Dense(10, activation='softmax'))"
      ],
      "execution_count": 10,
      "outputs": []
    },
    {
      "cell_type": "code",
      "metadata": {
        "id": "O1gohemQIzih",
        "outputId": "ecc3262a-e9c4-46e2-ba5d-e4abc3f2607a",
        "colab": {
          "base_uri": "https://localhost:8080/",
          "height": 607
        }
      },
      "source": [
        "model.compile(loss=keras.losses.categorical_crossentropy,\n",
        "\n",
        "              optimizer=keras.optimizers.Adadelta(),\n",
        "\n",
        "              metrics=['accuracy'])\n",
        "\n",
        "model.fit(x_train, y_train,\n",
        "\n",
        "          batch_size=512,\n",
        "\n",
        "          epochs=16,\n",
        "\n",
        "          verbose=1,\n",
        "\n",
        "          validation_data=(x_test, y_test))\n",
        "\n",
        "score = model.evaluate(x_test, y_test, verbose=0)\n",
        "\n",
        "print('Test loss:', score[0])\n",
        "\n",
        "print('Test accuracy:', score[1])"
      ],
      "execution_count": 11,
      "outputs": [
        {
          "output_type": "stream",
          "text": [
            "Epoch 1/16\n",
            "118/118 [==============================] - 2s 17ms/step - loss: 2.2756 - accuracy: 0.1481 - val_loss: 2.2436 - val_accuracy: 0.2458\n",
            "Epoch 2/16\n",
            "118/118 [==============================] - 2s 16ms/step - loss: 2.2116 - accuracy: 0.3486 - val_loss: 2.1706 - val_accuracy: 0.4699\n",
            "Epoch 3/16\n",
            "118/118 [==============================] - 2s 16ms/step - loss: 2.1281 - accuracy: 0.5261 - val_loss: 2.0709 - val_accuracy: 0.6006\n",
            "Epoch 4/16\n",
            "118/118 [==============================] - 2s 16ms/step - loss: 2.0116 - accuracy: 0.6311 - val_loss: 1.9297 - val_accuracy: 0.6804\n",
            "Epoch 5/16\n",
            "118/118 [==============================] - 2s 16ms/step - loss: 1.8479 - accuracy: 0.7010 - val_loss: 1.7346 - val_accuracy: 0.7396\n",
            "Epoch 6/16\n",
            "118/118 [==============================] - 2s 16ms/step - loss: 1.6315 - accuracy: 0.7488 - val_loss: 1.4899 - val_accuracy: 0.7762\n",
            "Epoch 7/16\n",
            "118/118 [==============================] - 2s 15ms/step - loss: 1.3787 - accuracy: 0.7799 - val_loss: 1.2264 - val_accuracy: 0.8047\n",
            "Epoch 8/16\n",
            "118/118 [==============================] - 2s 15ms/step - loss: 1.1291 - accuracy: 0.8045 - val_loss: 0.9914 - val_accuracy: 0.8259\n",
            "Epoch 9/16\n",
            "118/118 [==============================] - 2s 15ms/step - loss: 0.9257 - accuracy: 0.8238 - val_loss: 0.8168 - val_accuracy: 0.8388\n",
            "Epoch 10/16\n",
            "118/118 [==============================] - 2s 15ms/step - loss: 0.7801 - accuracy: 0.8385 - val_loss: 0.6960 - val_accuracy: 0.8507\n",
            "Epoch 11/16\n",
            "118/118 [==============================] - 2s 15ms/step - loss: 0.6798 - accuracy: 0.8482 - val_loss: 0.6133 - val_accuracy: 0.8610\n",
            "Epoch 12/16\n",
            "118/118 [==============================] - 2s 15ms/step - loss: 0.6098 - accuracy: 0.8558 - val_loss: 0.5549 - val_accuracy: 0.8678\n",
            "Epoch 13/16\n",
            "118/118 [==============================] - 2s 15ms/step - loss: 0.5594 - accuracy: 0.8626 - val_loss: 0.5122 - val_accuracy: 0.8740\n",
            "Epoch 14/16\n",
            "118/118 [==============================] - 2s 15ms/step - loss: 0.5217 - accuracy: 0.8680 - val_loss: 0.4798 - val_accuracy: 0.8784\n",
            "Epoch 15/16\n",
            "118/118 [==============================] - 2s 15ms/step - loss: 0.4927 - accuracy: 0.8720 - val_loss: 0.4550 - val_accuracy: 0.8810\n",
            "Epoch 16/16\n",
            "118/118 [==============================] - 2s 15ms/step - loss: 0.4697 - accuracy: 0.8755 - val_loss: 0.4346 - val_accuracy: 0.8860\n",
            "Test loss: 0.43455106019973755\n",
            "Test accuracy: 0.8859999775886536\n"
          ],
          "name": "stdout"
        }
      ]
    },
    {
      "cell_type": "code",
      "metadata": {
        "id": "N305lsWPLWJd",
        "outputId": "4fa263f6-1234-4fce-d73f-c39e1d677d72",
        "colab": {
          "base_uri": "https://localhost:8080/",
          "height": 329
        }
      },
      "source": [
        "model.summary()"
      ],
      "execution_count": 12,
      "outputs": [
        {
          "output_type": "stream",
          "text": [
            "Model: \"sequential_2\"\n",
            "_________________________________________________________________\n",
            "Layer (type)                 Output Shape              Param #   \n",
            "=================================================================\n",
            "conv2d (Conv2D)              (None, 26, 26, 32)        320       \n",
            "_________________________________________________________________\n",
            "conv2d_1 (Conv2D)            (None, 24, 24, 64)        18496     \n",
            "_________________________________________________________________\n",
            "flatten (Flatten)            (None, 36864)             0         \n",
            "_________________________________________________________________\n",
            "dense (Dense)                (None, 128)               4718720   \n",
            "_________________________________________________________________\n",
            "dense_1 (Dense)              (None, 10)                1290      \n",
            "=================================================================\n",
            "Total params: 4,738,826\n",
            "Trainable params: 4,738,826\n",
            "Non-trainable params: 0\n",
            "_________________________________________________________________\n"
          ],
          "name": "stdout"
        }
      ]
    },
    {
      "cell_type": "markdown",
      "metadata": {
        "id": "ywA9qajgPn4u"
      },
      "source": [
        "Add dropout and max pooling to the previous network"
      ]
    },
    {
      "cell_type": "code",
      "metadata": {
        "id": "YFRSkoZQNPtG"
      },
      "source": [
        "model2 = Sequential()\n",
        "\n",
        "model2.add(Conv2D(32, kernel_size=(3, 3), activation='relu', input_shape=(28,28,1)))\n",
        "\n",
        "model2.add(Conv2D(64, (3, 3), activation='relu'))\n",
        "\n",
        "model2.add(MaxPooling2D(pool_size=(2, 2)))\n",
        "\n",
        "model2.add(Dropout(0.25))\n",
        "\n",
        "model2.add(Flatten())\n",
        "\n",
        "model2.add(Dense(128, activation='relu'))\n",
        "\n",
        "model2.add(Dropout(0.5))\n",
        "\n",
        "model2.add(Dense(10, activation='softmax'))"
      ],
      "execution_count": 13,
      "outputs": []
    },
    {
      "cell_type": "code",
      "metadata": {
        "id": "52ZUuTKIQc-M",
        "outputId": "c0b9f9fa-be52-4a28-86d0-b8df7dd7325e",
        "colab": {
          "base_uri": "https://localhost:8080/",
          "height": 607
        }
      },
      "source": [
        "model2.compile(loss=keras.losses.categorical_crossentropy,\n",
        "\n",
        "              optimizer=keras.optimizers.Adadelta(),\n",
        "\n",
        "              metrics=['accuracy'])\n",
        "\n",
        "model2.fit(x_train, y_train,\n",
        "\n",
        "          batch_size=512,\n",
        "\n",
        "          epochs=16,\n",
        "\n",
        "          verbose=1,\n",
        "\n",
        "          validation_data=(x_test, y_test))\n",
        "\n",
        "score2 = model2.evaluate(x_test, y_test, verbose=0)\n",
        "\n",
        "print('Test loss:', score2[0])\n",
        "\n",
        "print('Test accuracy:', score2[1])"
      ],
      "execution_count": 15,
      "outputs": [
        {
          "output_type": "stream",
          "text": [
            "Epoch 1/16\n",
            "118/118 [==============================] - 2s 15ms/step - loss: 2.2633 - accuracy: 0.1737 - val_loss: 2.2440 - val_accuracy: 0.3227\n",
            "Epoch 2/16\n",
            "118/118 [==============================] - 2s 14ms/step - loss: 2.2454 - accuracy: 0.2124 - val_loss: 2.2231 - val_accuracy: 0.4207\n",
            "Epoch 3/16\n",
            "118/118 [==============================] - 2s 14ms/step - loss: 2.2262 - accuracy: 0.2448 - val_loss: 2.2000 - val_accuracy: 0.5103\n",
            "Epoch 4/16\n",
            "118/118 [==============================] - 2s 14ms/step - loss: 2.2033 - accuracy: 0.2837 - val_loss: 2.1741 - val_accuracy: 0.5613\n",
            "Epoch 5/16\n",
            "118/118 [==============================] - 2s 14ms/step - loss: 2.1799 - accuracy: 0.3178 - val_loss: 2.1450 - val_accuracy: 0.5913\n",
            "Epoch 6/16\n",
            "118/118 [==============================] - 2s 14ms/step - loss: 2.1506 - accuracy: 0.3565 - val_loss: 2.1118 - val_accuracy: 0.6147\n",
            "Epoch 7/16\n",
            "118/118 [==============================] - 2s 14ms/step - loss: 2.1180 - accuracy: 0.3896 - val_loss: 2.0738 - val_accuracy: 0.6314\n",
            "Epoch 8/16\n",
            "118/118 [==============================] - 2s 14ms/step - loss: 2.0823 - accuracy: 0.4196 - val_loss: 2.0302 - val_accuracy: 0.6486\n",
            "Epoch 9/16\n",
            "118/118 [==============================] - 2s 14ms/step - loss: 2.0395 - accuracy: 0.4492 - val_loss: 1.9799 - val_accuracy: 0.6640\n",
            "Epoch 10/16\n",
            "118/118 [==============================] - 2s 14ms/step - loss: 1.9919 - accuracy: 0.4719 - val_loss: 1.9222 - val_accuracy: 0.6796\n",
            "Epoch 11/16\n",
            "118/118 [==============================] - 2s 14ms/step - loss: 1.9400 - accuracy: 0.4976 - val_loss: 1.8567 - val_accuracy: 0.6986\n",
            "Epoch 12/16\n",
            "118/118 [==============================] - 2s 14ms/step - loss: 1.8785 - accuracy: 0.5173 - val_loss: 1.7836 - val_accuracy: 0.7143\n",
            "Epoch 13/16\n",
            "118/118 [==============================] - 2s 14ms/step - loss: 1.8131 - accuracy: 0.5377 - val_loss: 1.7034 - val_accuracy: 0.7286\n",
            "Epoch 14/16\n",
            "118/118 [==============================] - 2s 14ms/step - loss: 1.7408 - accuracy: 0.5581 - val_loss: 1.6172 - val_accuracy: 0.7484\n",
            "Epoch 15/16\n",
            "118/118 [==============================] - 2s 14ms/step - loss: 1.6689 - accuracy: 0.5731 - val_loss: 1.5269 - val_accuracy: 0.7682\n",
            "Epoch 16/16\n",
            "118/118 [==============================] - 2s 14ms/step - loss: 1.5910 - accuracy: 0.5866 - val_loss: 1.4349 - val_accuracy: 0.7799\n",
            "Test loss: 1.4348633289337158\n",
            "Test accuracy: 0.7799000144004822\n"
          ],
          "name": "stdout"
        }
      ]
    },
    {
      "cell_type": "markdown",
      "metadata": {
        "id": "YqIrhKjsQvzZ"
      },
      "source": [
        "2- CIFAR10 dataset"
      ]
    },
    {
      "cell_type": "markdown",
      "metadata": {
        "id": "dg-7BJcpX5O8"
      },
      "source": [
        "Load the data"
      ]
    },
    {
      "cell_type": "markdown",
      "metadata": {
        "id": "UHxYSKViYFD8"
      },
      "source": [
        "Please Find the description of the dataset here http://www.cs.toronto.edu/~kriz/cifar.html"
      ]
    },
    {
      "cell_type": "code",
      "metadata": {
        "id": "AYBtwQs9UgOc",
        "outputId": "c5685182-0258-4c2d-9450-10a49b8c3687",
        "colab": {
          "base_uri": "https://localhost:8080/",
          "height": 283
        }
      },
      "source": [
        "import matplotlib.pyplot as plt\n",
        "from keras import datasets\n",
        "(train_images, train_labels), (test_images, test_labels) = datasets.cifar10.load_data()\n",
        " \n",
        "plt.imshow(test_images [3])"
      ],
      "execution_count": 20,
      "outputs": [
        {
          "output_type": "execute_result",
          "data": {
            "text/plain": [
              "<matplotlib.image.AxesImage at 0x7f6e500a3080>"
            ]
          },
          "metadata": {
            "tags": []
          },
          "execution_count": 20
        },
        {
          "output_type": "display_data",
          "data": {
            "image/png": "[encoded data removed]",
            "text/plain": [
              "<Figure size 432x288 with 1 Axes>"
            ]
          },
          "metadata": {
            "tags": [],
            "needs_background": "light"
          }
        }
      ]
    },
    {
      "cell_type": "code",
      "metadata": {
        "id": "se1KhdZ4VELe",
        "outputId": "364e07bd-c267-4e3e-f0ad-cd0d239c564e",
        "colab": {
          "base_uri": "https://localhost:8080/",
          "height": 283
        }
      },
      "source": [
        "plt.imshow(test_images [1])"
      ],
      "execution_count": 21,
      "outputs": [
        {
          "output_type": "execute_result",
          "data": {
            "text/plain": [
              "<matplotlib.image.AxesImage at 0x7f6e3a196358>"
            ]
          },
          "metadata": {
            "tags": []
          },
          "execution_count": 21
        },
        {
          "output_type": "display_data",
          "data": {
            "image/png": "[encoded data removed]",
            "text/plain": [
              "<Figure size 432x288 with 1 Axes>"
            ]
          },
          "metadata": {
            "tags": [],
            "needs_background": "light"
          }
        }
      ]
    },
    {
      "cell_type": "code",
      "metadata": {
        "id": "ZP6y8r0UYBaS",
        "outputId": "2c283771-5f34-49ad-c97f-035184dad0cc",
        "colab": {
          "base_uri": "https://localhost:8080/",
          "height": 35
        }
      },
      "source": [
        "train_images.shape"
      ],
      "execution_count": 22,
      "outputs": [
        {
          "output_type": "execute_result",
          "data": {
            "text/plain": [
              "(50000, 32, 32, 3)"
            ]
          },
          "metadata": {
            "tags": []
          },
          "execution_count": 22
        }
      ]
    },
    {
      "cell_type": "code",
      "metadata": {
        "id": "eZMy7V2aeOz1",
        "outputId": "88d267d9-ac98-4597-bbc4-6206320acba6",
        "colab": {
          "base_uri": "https://localhost:8080/",
          "height": 35
        }
      },
      "source": [
        "test_labels.shape"
      ],
      "execution_count": 30,
      "outputs": [
        {
          "output_type": "execute_result",
          "data": {
            "text/plain": [
              "(10000, 1)"
            ]
          },
          "metadata": {
            "tags": []
          },
          "execution_count": 30
        }
      ]
    },
    {
      "cell_type": "markdown",
      "metadata": {
        "id": "Wce1BkJPYPLH"
      },
      "source": [
        "The images are already reshaped as we want"
      ]
    },
    {
      "cell_type": "code",
      "metadata": {
        "id": "Linc_JU0Qldo"
      },
      "source": [
        "\n",
        "# Normalize pixel values to be between 0 and 1\n",
        "train_images, test_images = train_images / 255.0, test_images / 255.0\n"
      ],
      "execution_count": null,
      "outputs": []
    },
    {
      "cell_type": "markdown",
      "metadata": {
        "id": "NYSmGJGbeXUg"
      },
      "source": [
        "We need to encode labels"
      ]
    },
    {
      "cell_type": "code",
      "metadata": {
        "id": "DAE74iU_eaZ2"
      },
      "source": [
        "train_labels = keras.utils.to_categorical(train_labels, 10) # 10 classes\n",
        "test_labels = keras.utils.to_categorical(test_labels, 10)"
      ],
      "execution_count": 31,
      "outputs": []
    },
    {
      "cell_type": "markdown",
      "metadata": {
        "id": "eAwhTJySYZf0"
      },
      "source": [
        "Define the model"
      ]
    },
    {
      "cell_type": "code",
      "metadata": {
        "id": "NfL6KgyrYX0k"
      },
      "source": [
        "model = Sequential()\n",
        "\n",
        "model.add(Conv2D(32, (3, 3), activation='relu', input_shape=(32, 32, 3)))\n",
        "\n",
        "model.add(MaxPooling2D((2, 2)))\n",
        "\n",
        "model.add(Conv2D(64, (3, 3), activation='relu'))\n",
        "\n",
        "model.add(MaxPooling2D((2, 2)))\n",
        "\n",
        "model.add(Conv2D(64, (3, 3), activation='relu'))\n",
        "\n",
        "model.add(Flatten())\n",
        "\n",
        "model.add(Dense(64, activation='relu'))\n",
        "\n",
        "model.add(Dense(10, activation='softmax'))"
      ],
      "execution_count": 35,
      "outputs": []
    },
    {
      "cell_type": "markdown",
      "metadata": {
        "id": "xNJG44t5fm9P"
      },
      "source": [
        "Compile and train the model"
      ]
    },
    {
      "cell_type": "code",
      "metadata": {
        "id": "vITKcOXpdBso",
        "outputId": "13517d42-8bd1-4600-a085-fff0131bc223",
        "colab": {
          "base_uri": "https://localhost:8080/",
          "height": 1000
        }
      },
      "source": [
        "model.compile(loss=keras.losses.categorical_crossentropy,\n",
        "              optimizer='adam',\n",
        "              metrics=['accuracy'])\n",
        "\n",
        "model.fit(train_images, train_labels,\n",
        "          batch_size=512,\n",
        "          epochs=50,\n",
        "          verbose=1,\n",
        "          validation_data=(test_images, test_labels))\n",
        "\n",
        " \n",
        "\n",
        "score = model.evaluate(test_images, test_labels, verbose=0)\n",
        "print('Test loss:', score[0])\n",
        "print('Test accuracy:', score[1])"
      ],
      "execution_count": 38,
      "outputs": [
        {
          "output_type": "stream",
          "text": [
            "Epoch 1/50\n",
            "98/98 [==============================] - 1s 10ms/step - loss: 0.1818 - accuracy: 0.9458 - val_loss: 2.9833 - val_accuracy: 0.6347\n",
            "Epoch 2/50\n",
            "98/98 [==============================] - 1s 9ms/step - loss: 0.0417 - accuracy: 0.9867 - val_loss: 3.1219 - val_accuracy: 0.6368\n",
            "Epoch 3/50\n",
            "98/98 [==============================] - 1s 9ms/step - loss: 0.0338 - accuracy: 0.9905 - val_loss: 3.2858 - val_accuracy: 0.6374\n",
            "Epoch 4/50\n",
            "98/98 [==============================] - 1s 9ms/step - loss: 0.0496 - accuracy: 0.9830 - val_loss: 3.4222 - val_accuracy: 0.6272\n",
            "Epoch 5/50\n",
            "98/98 [==============================] - 1s 9ms/step - loss: 0.1079 - accuracy: 0.9621 - val_loss: 3.1898 - val_accuracy: 0.6212\n",
            "Epoch 6/50\n",
            "98/98 [==============================] - 1s 9ms/step - loss: 0.1239 - accuracy: 0.9579 - val_loss: 3.3681 - val_accuracy: 0.6167\n",
            "Epoch 7/50\n",
            "98/98 [==============================] - 1s 9ms/step - loss: 0.0912 - accuracy: 0.9689 - val_loss: 3.3979 - val_accuracy: 0.6270\n",
            "Epoch 8/50\n",
            "98/98 [==============================] - 1s 9ms/step - loss: 0.0708 - accuracy: 0.9761 - val_loss: 3.4501 - val_accuracy: 0.6303\n",
            "Epoch 9/50\n",
            "98/98 [==============================] - 1s 9ms/step - loss: 0.0567 - accuracy: 0.9807 - val_loss: 3.5992 - val_accuracy: 0.6306\n",
            "Epoch 10/50\n",
            "98/98 [==============================] - 1s 9ms/step - loss: 0.0650 - accuracy: 0.9775 - val_loss: 3.6084 - val_accuracy: 0.6256\n",
            "Epoch 11/50\n",
            "98/98 [==============================] - 1s 9ms/step - loss: 0.0631 - accuracy: 0.9781 - val_loss: 3.6849 - val_accuracy: 0.6253\n",
            "Epoch 12/50\n",
            "98/98 [==============================] - 1s 10ms/step - loss: 0.0955 - accuracy: 0.9680 - val_loss: 3.6122 - val_accuracy: 0.6231\n",
            "Epoch 13/50\n",
            "98/98 [==============================] - 1s 9ms/step - loss: 0.0792 - accuracy: 0.9729 - val_loss: 3.6867 - val_accuracy: 0.6250\n",
            "Epoch 14/50\n",
            "98/98 [==============================] - 1s 9ms/step - loss: 0.0893 - accuracy: 0.9698 - val_loss: 3.7649 - val_accuracy: 0.6202\n",
            "Epoch 15/50\n",
            "98/98 [==============================] - 1s 9ms/step - loss: 0.1062 - accuracy: 0.9649 - val_loss: 3.6754 - val_accuracy: 0.6264\n",
            "Epoch 16/50\n",
            "98/98 [==============================] - 1s 9ms/step - loss: 0.1074 - accuracy: 0.9646 - val_loss: 3.7055 - val_accuracy: 0.6261\n",
            "Epoch 17/50\n",
            "98/98 [==============================] - 1s 9ms/step - loss: 0.0575 - accuracy: 0.9807 - val_loss: 3.8827 - val_accuracy: 0.6287\n",
            "Epoch 18/50\n",
            "98/98 [==============================] - 1s 9ms/step - loss: 0.0474 - accuracy: 0.9841 - val_loss: 3.9661 - val_accuracy: 0.6260\n",
            "Epoch 19/50\n",
            "98/98 [==============================] - 1s 9ms/step - loss: 0.0443 - accuracy: 0.9846 - val_loss: 4.0581 - val_accuracy: 0.6331\n",
            "Epoch 20/50\n",
            "98/98 [==============================] - 1s 9ms/step - loss: 0.0393 - accuracy: 0.9873 - val_loss: 4.0454 - val_accuracy: 0.6268\n",
            "Epoch 21/50\n",
            "98/98 [==============================] - 1s 9ms/step - loss: 0.0466 - accuracy: 0.9846 - val_loss: 4.0313 - val_accuracy: 0.6357\n",
            "Epoch 22/50\n",
            "98/98 [==============================] - 1s 9ms/step - loss: 0.0659 - accuracy: 0.9786 - val_loss: 4.1542 - val_accuracy: 0.6127\n",
            "Epoch 23/50\n",
            "98/98 [==============================] - 1s 9ms/step - loss: 0.1014 - accuracy: 0.9669 - val_loss: 3.9661 - val_accuracy: 0.6280\n",
            "Epoch 24/50\n",
            "98/98 [==============================] - 1s 9ms/step - loss: 0.0778 - accuracy: 0.9739 - val_loss: 4.1662 - val_accuracy: 0.6287\n",
            "Epoch 25/50\n",
            "98/98 [==============================] - 1s 9ms/step - loss: 0.1274 - accuracy: 0.9592 - val_loss: 4.0003 - val_accuracy: 0.6280\n",
            "Epoch 26/50\n",
            "98/98 [==============================] - 1s 9ms/step - loss: 0.1271 - accuracy: 0.9610 - val_loss: 3.9706 - val_accuracy: 0.6227\n",
            "Epoch 27/50\n",
            "98/98 [==============================] - 1s 9ms/step - loss: 0.0739 - accuracy: 0.9752 - val_loss: 4.0703 - val_accuracy: 0.6241\n",
            "Epoch 28/50\n",
            "98/98 [==============================] - 1s 9ms/step - loss: 0.0494 - accuracy: 0.9840 - val_loss: 4.1948 - val_accuracy: 0.6330\n",
            "Epoch 29/50\n",
            "98/98 [==============================] - 1s 10ms/step - loss: 0.0429 - accuracy: 0.9858 - val_loss: 4.2099 - val_accuracy: 0.6285\n",
            "Epoch 30/50\n",
            "98/98 [==============================] - 1s 9ms/step - loss: 0.0373 - accuracy: 0.9878 - val_loss: 4.1633 - val_accuracy: 0.6337\n",
            "Epoch 31/50\n",
            "98/98 [==============================] - 1s 9ms/step - loss: 0.0307 - accuracy: 0.9899 - val_loss: 4.3641 - val_accuracy: 0.6378\n",
            "Epoch 32/50\n",
            "98/98 [==============================] - 1s 9ms/step - loss: 0.0354 - accuracy: 0.9878 - val_loss: 4.6446 - val_accuracy: 0.6167\n",
            "Epoch 33/50\n",
            "98/98 [==============================] - 1s 9ms/step - loss: 0.0782 - accuracy: 0.9744 - val_loss: 4.4364 - val_accuracy: 0.6287\n",
            "Epoch 34/50\n",
            "98/98 [==============================] - 1s 9ms/step - loss: 0.0800 - accuracy: 0.9748 - val_loss: 4.4612 - val_accuracy: 0.6165\n",
            "Epoch 35/50\n",
            "98/98 [==============================] - 1s 10ms/step - loss: 0.0970 - accuracy: 0.9691 - val_loss: 4.3704 - val_accuracy: 0.6263\n",
            "Epoch 36/50\n",
            "98/98 [==============================] - 1s 10ms/step - loss: 0.1237 - accuracy: 0.9627 - val_loss: 4.3382 - val_accuracy: 0.6111\n",
            "Epoch 37/50\n",
            "98/98 [==============================] - 1s 10ms/step - loss: 0.0716 - accuracy: 0.9766 - val_loss: 4.3638 - val_accuracy: 0.6259\n",
            "Epoch 38/50\n",
            "98/98 [==============================] - 1s 10ms/step - loss: 0.0842 - accuracy: 0.9735 - val_loss: 4.3942 - val_accuracy: 0.6211\n",
            "Epoch 39/50\n",
            "98/98 [==============================] - 1s 10ms/step - loss: 0.0513 - accuracy: 0.9826 - val_loss: 4.4577 - val_accuracy: 0.6352\n",
            "Epoch 40/50\n",
            "98/98 [==============================] - 1s 10ms/step - loss: 0.0405 - accuracy: 0.9865 - val_loss: 4.5201 - val_accuracy: 0.6292\n",
            "Epoch 41/50\n",
            "98/98 [==============================] - 1s 10ms/step - loss: 0.0333 - accuracy: 0.9891 - val_loss: 4.6042 - val_accuracy: 0.6278\n",
            "Epoch 42/50\n",
            "98/98 [==============================] - 1s 10ms/step - loss: 0.0433 - accuracy: 0.9857 - val_loss: 4.5462 - val_accuracy: 0.6260\n",
            "Epoch 43/50\n",
            "98/98 [==============================] - 1s 10ms/step - loss: 0.0784 - accuracy: 0.9746 - val_loss: 4.6327 - val_accuracy: 0.6288\n",
            "Epoch 44/50\n",
            "98/98 [==============================] - 1s 10ms/step - loss: 0.0529 - accuracy: 0.9836 - val_loss: 4.6028 - val_accuracy: 0.6279\n",
            "Epoch 45/50\n",
            "98/98 [==============================] - 1s 9ms/step - loss: 0.0383 - accuracy: 0.9870 - val_loss: 4.6551 - val_accuracy: 0.6384\n",
            "Epoch 46/50\n",
            "98/98 [==============================] - 1s 9ms/step - loss: 0.0599 - accuracy: 0.9804 - val_loss: 4.8216 - val_accuracy: 0.6296\n",
            "Epoch 47/50\n",
            "98/98 [==============================] - 1s 10ms/step - loss: 0.0799 - accuracy: 0.9759 - val_loss: 4.9146 - val_accuracy: 0.6193\n",
            "Epoch 48/50\n",
            "98/98 [==============================] - 1s 9ms/step - loss: 0.0794 - accuracy: 0.9753 - val_loss: 4.7958 - val_accuracy: 0.6246\n",
            "Epoch 49/50\n",
            "98/98 [==============================] - 1s 10ms/step - loss: 0.0757 - accuracy: 0.9765 - val_loss: 4.6099 - val_accuracy: 0.6335\n",
            "Epoch 50/50\n",
            "98/98 [==============================] - 1s 10ms/step - loss: 0.0667 - accuracy: 0.9796 - val_loss: 4.7762 - val_accuracy: 0.6332\n",
            "Test loss: 4.776155948638916\n",
            "Test accuracy: 0.6331999897956848\n"
          ],
          "name": "stdout"
        }
      ]
    },
    {
      "cell_type": "markdown",
      "metadata": {
        "id": "L6_saxr0ginB"
      },
      "source": [
        "==> we clearly overfit the train data"
      ]
    },
    {
      "cell_type": "code",
      "metadata": {
        "id": "410reoCLdjcQ"
      },
      "source": [
        ""
      ],
      "execution_count": null,
      "outputs": []
    }
  ]
}