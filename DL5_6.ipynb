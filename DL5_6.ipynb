{
  "nbformat": 4,
  "nbformat_minor": 0,
  "metadata": {
    "colab": {
      "name": "DL5-6.ipynb",
      "provenance": []
    },
    "kernelspec": {
      "display_name": "Python 3",
      "name": "python3"
    }
  },
  "cells": [
    {
      "cell_type": "markdown",
      "metadata": {
        "id": "0lLHnFs5t68b"
      },
      "source": [
        "# <center> DL5 : Functional API of Keras <center>\n",
        "\n",
        "---\n",
        "\n"
      ]
    },
    {
      "cell_type": "code",
      "metadata": {
        "id": "XTXllsi8t6Cq"
      },
      "source": [
        "import numpy as np\n",
        "import tensorflow as tf\n",
        "from tensorflow import keras\n",
        "from tensorflow.keras import layers\n",
        "import matplotlib.pyplot as plt"
      ],
      "execution_count": null,
      "outputs": []
    },
    {
      "cell_type": "markdown",
      "metadata": {
        "id": "wvGKZC9CuZDZ"
      },
      "source": [
        "#I- Simple example with MNIST"
      ]
    },
    {
      "cell_type": "markdown",
      "metadata": {
        "id": "eXakqT7Hurva"
      },
      "source": [
        "Load the data and preprocess it "
      ]
    },
    {
      "cell_type": "code",
      "metadata": {
        "id": "WPsKTqv5udMV"
      },
      "source": [
        "from tensorflow.keras.datasets import mnist\n",
        "(train_images, train_labels),(test_images, test_labels)=mnist.load_data()\n",
        "train = train_images.reshape(60000, 28*28)\n",
        "test = test_images.reshape(10000, 28*28)\n",
        "x_train = train.astype(\"float32\") / 255\n",
        "x_test = test.astype(\"float32\") / 255\n",
        "y_train = train_labels\n",
        "y_test = test_labels"
      ],
      "execution_count": null,
      "outputs": []
    },
    {
      "cell_type": "code",
      "metadata": {
        "id": "iwh5xesZwXp0",
        "outputId": "8f7df101-0c77-495c-a57a-b7d0eb64fc6f",
        "colab": {
          "base_uri": "https://localhost:8080/"
        }
      },
      "source": [
        "x_train.shape"
      ],
      "execution_count": null,
      "outputs": [
        {
          "output_type": "execute_result",
          "data": {
            "text/plain": [
              "(60000, 784)"
            ]
          },
          "metadata": {
            "tags": []
          },
          "execution_count": 19
        }
      ]
    },
    {
      "cell_type": "code",
      "metadata": {
        "id": "DsSDsfUGwd3F",
        "outputId": "5dcbe30d-7413-40e4-92a1-d6094c1a85dd",
        "colab": {
          "base_uri": "https://localhost:8080/"
        }
      },
      "source": [
        "y_train.shape"
      ],
      "execution_count": null,
      "outputs": [
        {
          "output_type": "execute_result",
          "data": {
            "text/plain": [
              "(60000,)"
            ]
          },
          "metadata": {
            "tags": []
          },
          "execution_count": 20
        }
      ]
    },
    {
      "cell_type": "markdown",
      "metadata": {
        "id": "0f7eDMeRupot"
      },
      "source": [
        "Define the model"
      ]
    },
    {
      "cell_type": "code",
      "metadata": {
        "id": "uiyac6BnuvTB"
      },
      "source": [
        "inputs = keras.Input(shape=(784,))\n",
        "dense = layers.Dense(64, activation='relu')(inputs)\n",
        "\n",
        "dense2 = layers.Dense(64, activation='relu')(dense)\n",
        "\n",
        "dense3 = layers.Dense(10, activation='softmax')(dense2)\n"
      ],
      "execution_count": null,
      "outputs": []
    },
    {
      "cell_type": "code",
      "metadata": {
        "id": "-Qj4tKHXvTcr"
      },
      "source": [
        "model = keras.Model(inputs=inputs, outputs=dense3)"
      ],
      "execution_count": null,
      "outputs": []
    },
    {
      "cell_type": "markdown",
      "metadata": {
        "id": "UPCpPwdavzRu"
      },
      "source": [
        "Plot the model architecture"
      ]
    },
    {
      "cell_type": "code",
      "metadata": {
        "id": "5ZzIPo9bvp8g",
        "outputId": "29fd66a2-edf2-4a7c-92a7-8045ed1bb371",
        "colab": {
          "base_uri": "https://localhost:8080/",
          "height": 422
        }
      },
      "source": [
        "keras.utils.plot_model(model, show_shapes=True)"
      ],
      "execution_count": null,
      "outputs": [
        {
          "output_type": "execute_result",
          "data": {
            "image/png": "[encoded data removed]",
            "text/plain": [
              "<IPython.core.display.Image object>"
            ]
          },
          "metadata": {
            "tags": []
          },
          "execution_count": 52
        }
      ]
    },
    {
      "cell_type": "markdown",
      "metadata": {
        "id": "hMJRvXTIwC5S"
      },
      "source": [
        "compile, train and evaluate the model"
      ]
    },
    {
      "cell_type": "markdown",
      "metadata": {
        "id": "S2fKTrAPzCce"
      },
      "source": [
        "when using sparse_categorical_crossentropy we don't need to one hot encode the labels"
      ]
    },
    {
      "cell_type": "code",
      "metadata": {
        "id": "ywQNQXexvxjG",
        "outputId": "3dd1ae1d-98d1-4699-84ac-fdf0b7956a9c",
        "colab": {
          "base_uri": "https://localhost:8080/"
        }
      },
      "source": [
        "model.compile(loss='sparse_categorical_crossentropy',\n",
        " optimizer=keras.optimizers.RMSprop(),\n",
        " metrics=['accuracy'])\n",
        "history = model.fit(x_train, y_train,batch_size=64,epochs=10,validation_split=0.2)\n",
        "test_scores = model.evaluate(x_test, y_test, verbose=2)\n",
        "print('Test loss:', test_scores[0])\n",
        "print('Test accuracy:', test_scores[1])"
      ],
      "execution_count": null,
      "outputs": [
        {
          "output_type": "stream",
          "text": [
            "Epoch 1/10\n",
            "750/750 [==============================] - 2s 2ms/step - loss: 0.0114 - accuracy: 0.9965 - val_loss: 0.1562 - val_accuracy: 0.9726\n",
            "Epoch 2/10\n",
            "750/750 [==============================] - 2s 2ms/step - loss: 0.0089 - accuracy: 0.9972 - val_loss: 0.1687 - val_accuracy: 0.9735\n",
            "Epoch 3/10\n",
            "750/750 [==============================] - 2s 2ms/step - loss: 0.0091 - accuracy: 0.9971 - val_loss: 0.1768 - val_accuracy: 0.9729\n",
            "Epoch 4/10\n",
            "750/750 [==============================] - 2s 2ms/step - loss: 0.0073 - accuracy: 0.9977 - val_loss: 0.1696 - val_accuracy: 0.9743\n",
            "Epoch 5/10\n",
            "750/750 [==============================] - 2s 2ms/step - loss: 0.0065 - accuracy: 0.9980 - val_loss: 0.1869 - val_accuracy: 0.9734\n",
            "Epoch 6/10\n",
            "750/750 [==============================] - 2s 2ms/step - loss: 0.0066 - accuracy: 0.9977 - val_loss: 0.2014 - val_accuracy: 0.9706\n",
            "Epoch 7/10\n",
            "750/750 [==============================] - 2s 2ms/step - loss: 0.0054 - accuracy: 0.9982 - val_loss: 0.1830 - val_accuracy: 0.9748\n",
            "Epoch 8/10\n",
            "750/750 [==============================] - 2s 2ms/step - loss: 0.0042 - accuracy: 0.9986 - val_loss: 0.1838 - val_accuracy: 0.9739\n",
            "Epoch 9/10\n",
            "750/750 [==============================] - 2s 2ms/step - loss: 0.0044 - accuracy: 0.9985 - val_loss: 0.2070 - val_accuracy: 0.9716\n",
            "Epoch 10/10\n",
            "750/750 [==============================] - 2s 2ms/step - loss: 0.0040 - accuracy: 0.9986 - val_loss: 0.2019 - val_accuracy: 0.9742\n",
            "313/313 - 0s - loss: 0.1890 - accuracy: 0.9759\n",
            "Test loss: 0.1889561265707016\n",
            "Test accuracy: 0.9758999943733215\n"
          ],
          "name": "stdout"
        }
      ]
    },
    {
      "cell_type": "code",
      "metadata": {
        "id": "V2k403aAwIyN",
        "outputId": "556e3f10-054d-430c-ae5a-105aeed4a4ea",
        "colab": {
          "base_uri": "https://localhost:8080/",
          "height": 295
        }
      },
      "source": [
        "import matplotlib.pyplot as plt\n",
        "history_dict = history.history\n",
        "loss_values = history_dict['loss']\n",
        "val_loss_values = history_dict['val_loss']\n",
        "epochs = range(1, len(loss_values) + 1)\n",
        "plt.plot(epochs, loss_values, 'bo', label='Training loss')\n",
        "plt.plot(epochs, val_loss_values, 'b', label='Validation loss')\n",
        "plt.title('Training and validation loss')\n",
        "plt.xlabel('Epochs')\n",
        "plt.ylabel('Loss')\n",
        "plt.legend()\n",
        "plt.show()"
      ],
      "execution_count": null,
      "outputs": [
        {
          "output_type": "display_data",
          "data": {
            "image/png": "[encoded data removed]",
            "text/plain": [
              "<Figure size 432x288 with 1 Axes>"
            ]
          },
          "metadata": {
            "tags": []
          }
        }
      ]
    },
    {
      "cell_type": "markdown",
      "metadata": {
        "id": "QKcIpMIu2DG-"
      },
      "source": [
        "# II- Autoencoders"
      ]
    },
    {
      "cell_type": "markdown",
      "metadata": {
        "id": "dkgKmgPu13fw"
      },
      "source": [
        "Create an autoencoder Convnet in order to learn to reproduce mnist images"
      ]
    },
    {
      "cell_type": "markdown",
      "metadata": {
        "id": "46pFIwz92QEa"
      },
      "source": [
        "1- Define the encoder "
      ]
    },
    {
      "cell_type": "code",
      "metadata": {
        "id": "vEM-QCBCzZeg",
        "outputId": "4304c1f3-48c1-4ff1-9084-3f7c6732bcef",
        "colab": {
          "base_uri": "https://localhost:8080/"
        }
      },
      "source": [
        "encoder_input = keras.Input(shape=(28, 28, 1), name='original_img')\n",
        "x = layers.Conv2D(16, 3, activation='relu')(encoder_input)\n",
        "x = layers.Conv2D(32, 3, activation='relu')(x)\n",
        "x = layers.MaxPooling2D(3)(x)\n",
        "x = layers.Conv2D(32, 3, activation='relu')(x)\n",
        "x = layers.Conv2D(16, 3, activation='relu')(x)\n",
        "encoder_output = layers.GlobalMaxPooling2D()(x)\n",
        "encoder = keras.Model(encoder_input, encoder_output, name='encoder')\n",
        "encoder.summary()"
      ],
      "execution_count": null,
      "outputs": [
        {
          "output_type": "stream",
          "text": [
            "Model: \"encoder\"\n",
            "_________________________________________________________________\n",
            "Layer (type)                 Output Shape              Param #   \n",
            "=================================================================\n",
            "original_img (InputLayer)    [(None, 28, 28, 1)]       0         \n",
            "_________________________________________________________________\n",
            "conv2d_4 (Conv2D)            (None, 26, 26, 16)        160       \n",
            "_________________________________________________________________\n",
            "conv2d_5 (Conv2D)            (None, 24, 24, 32)        4640      \n",
            "_________________________________________________________________\n",
            "max_pooling2d_1 (MaxPooling2 (None, 8, 8, 32)          0         \n",
            "_________________________________________________________________\n",
            "conv2d_6 (Conv2D)            (None, 6, 6, 32)          9248      \n",
            "_________________________________________________________________\n",
            "conv2d_7 (Conv2D)            (None, 4, 4, 16)          4624      \n",
            "_________________________________________________________________\n",
            "global_max_pooling2d_1 (Glob (None, 16)                0         \n",
            "=================================================================\n",
            "Total params: 18,672\n",
            "Trainable params: 18,672\n",
            "Non-trainable params: 0\n",
            "_________________________________________________________________\n"
          ],
          "name": "stdout"
        }
      ]
    },
    {
      "cell_type": "markdown",
      "metadata": {
        "id": "7CS3fnKk2VA3"
      },
      "source": [
        "2- Define the decoder :"
      ]
    },
    {
      "cell_type": "code",
      "metadata": {
        "id": "nqMIn5eg2TUT",
        "outputId": "675843d9-3948-44ef-8457-79b99296d89e",
        "colab": {
          "base_uri": "https://localhost:8080/"
        }
      },
      "source": [
        "decoder_input = keras.Input(shape=(16,), name='encoded_img')\n",
        "x = layers.Reshape((4, 4, 1))(decoder_input)\n",
        "x = layers.Conv2DTranspose(16, 3, activation='relu')(x)\n",
        "x = layers.Conv2DTranspose(32, 3, activation='relu')(x)\n",
        "x = layers.UpSampling2D(3)(x)\n",
        "x = layers.Conv2DTranspose(16, 3, activation='relu')(x)\n",
        "decoder_output = layers.Conv2DTranspose(1, 3, activation='relu')(x)\n",
        "decoder = keras.Model(decoder_input, decoder_output, name='decoder')\n",
        "decoder.summary()"
      ],
      "execution_count": null,
      "outputs": [
        {
          "output_type": "stream",
          "text": [
            "Model: \"decoder\"\n",
            "_________________________________________________________________\n",
            "Layer (type)                 Output Shape              Param #   \n",
            "=================================================================\n",
            "encoded_img (InputLayer)     [(None, 16)]              0         \n",
            "_________________________________________________________________\n",
            "reshape_1 (Reshape)          (None, 4, 4, 1)           0         \n",
            "_________________________________________________________________\n",
            "conv2d_transpose_4 (Conv2DTr (None, 6, 6, 16)          160       \n",
            "_________________________________________________________________\n",
            "conv2d_transpose_5 (Conv2DTr (None, 8, 8, 32)          4640      \n",
            "_________________________________________________________________\n",
            "up_sampling2d_1 (UpSampling2 (None, 24, 24, 32)        0         \n",
            "_________________________________________________________________\n",
            "conv2d_transpose_6 (Conv2DTr (None, 26, 26, 16)        4624      \n",
            "_________________________________________________________________\n",
            "conv2d_transpose_7 (Conv2DTr (None, 28, 28, 1)         145       \n",
            "=================================================================\n",
            "Total params: 9,569\n",
            "Trainable params: 9,569\n",
            "Non-trainable params: 0\n",
            "_________________________________________________________________\n"
          ],
          "name": "stdout"
        }
      ]
    },
    {
      "cell_type": "markdown",
      "metadata": {
        "id": "puCUZ8hq2sZw"
      },
      "source": [
        "3- Define the whole autoencoder model"
      ]
    },
    {
      "cell_type": "code",
      "metadata": {
        "id": "VuQM9yVF2rdv",
        "outputId": "56696f7d-9393-48f5-e908-21758ea5fb73",
        "colab": {
          "base_uri": "https://localhost:8080/"
        }
      },
      "source": [
        "autoencoder_input = keras.Input(shape=(28, 28, 1), name='img')\n",
        "encoded_img = encoder(autoencoder_input)\n",
        "decoded_img = decoder(encoded_img)\n",
        "autoencoder = keras.Model(autoencoder_input, decoded_img, name='autoencoder')\n",
        "autoencoder.summary()"
      ],
      "execution_count": null,
      "outputs": [
        {
          "output_type": "stream",
          "text": [
            "Model: \"autoencoder\"\n",
            "_________________________________________________________________\n",
            "Layer (type)                 Output Shape              Param #   \n",
            "=================================================================\n",
            "img (InputLayer)             [(None, 28, 28, 1)]       0         \n",
            "_________________________________________________________________\n",
            "encoder (Functional)         (None, 16)                18672     \n",
            "_________________________________________________________________\n",
            "decoder (Functional)         (None, 28, 28, 1)         9569      \n",
            "=================================================================\n",
            "Total params: 28,241\n",
            "Trainable params: 28,241\n",
            "Non-trainable params: 0\n",
            "_________________________________________________________________\n"
          ],
          "name": "stdout"
        }
      ]
    },
    {
      "cell_type": "markdown",
      "metadata": {
        "id": "tQ4e2I-s3OhB"
      },
      "source": [
        "reshape the images "
      ]
    },
    {
      "cell_type": "code",
      "metadata": {
        "id": "8XC9k-Tf3Q5V"
      },
      "source": [
        "x_train = x_train.reshape((x_train.shape[0],28,28,1))\n",
        "x_test = x_test.reshape((x_test.shape[0],28,28,1))"
      ],
      "execution_count": null,
      "outputs": []
    },
    {
      "cell_type": "markdown",
      "metadata": {
        "id": "h7d9L-CH2y-P"
      },
      "source": [
        "train the autoencoder"
      ]
    },
    {
      "cell_type": "code",
      "metadata": {
        "id": "xOJrT7C82x4m",
        "outputId": "dbb6222b-274b-4d07-9027-723cabaeb0d0",
        "colab": {
          "base_uri": "https://localhost:8080/"
        }
      },
      "source": [
        "\n",
        "autoencoder.compile(loss='mean_squared_error',\n",
        " optimizer=keras.optimizers.RMSprop(),\n",
        " metrics=['mae'])\n",
        "history = autoencoder.fit(x_train, x_train,batch_size=64,epochs=10,validation_split=0.2)\n",
        "test_scores = autoencoder.evaluate(x_test, x_test, verbose=2)\n",
        "print('Test loss:', test_scores[0])\n",
        "print('Test mae:', test_scores[1])"
      ],
      "execution_count": null,
      "outputs": [
        {
          "output_type": "stream",
          "text": [
            "Epoch 1/10\n",
            "750/750 [==============================] - 4s 6ms/step - loss: 0.0253 - mae: 0.0640 - val_loss: 0.0263 - val_mae: 0.0628\n",
            "Epoch 2/10\n",
            "750/750 [==============================] - 4s 5ms/step - loss: 0.0248 - mae: 0.0630 - val_loss: 0.0242 - val_mae: 0.0632\n",
            "Epoch 3/10\n",
            "750/750 [==============================] - 4s 5ms/step - loss: 0.0243 - mae: 0.0621 - val_loss: 0.0258 - val_mae: 0.0663\n",
            "Epoch 4/10\n",
            "750/750 [==============================] - 4s 5ms/step - loss: 0.0240 - mae: 0.0615 - val_loss: 0.0245 - val_mae: 0.0639\n",
            "Epoch 5/10\n",
            "750/750 [==============================] - 4s 5ms/step - loss: 0.0237 - mae: 0.0608 - val_loss: 0.0227 - val_mae: 0.0596\n",
            "Epoch 6/10\n",
            "750/750 [==============================] - 4s 5ms/step - loss: 0.0234 - mae: 0.0603 - val_loss: 0.0240 - val_mae: 0.0610\n",
            "Epoch 7/10\n",
            "750/750 [==============================] - 4s 5ms/step - loss: 0.0231 - mae: 0.0597 - val_loss: 0.0240 - val_mae: 0.0593\n",
            "Epoch 8/10\n",
            "750/750 [==============================] - 4s 5ms/step - loss: 0.0229 - mae: 0.0593 - val_loss: 0.0235 - val_mae: 0.0592\n",
            "Epoch 9/10\n",
            "750/750 [==============================] - 4s 5ms/step - loss: 0.0227 - mae: 0.0589 - val_loss: 0.0239 - val_mae: 0.0609\n",
            "Epoch 10/10\n",
            "750/750 [==============================] - 4s 5ms/step - loss: 0.0225 - mae: 0.0585 - val_loss: 0.0222 - val_mae: 0.0576\n",
            "313/313 - 1s - loss: 0.0218 - mae: 0.0571\n",
            "Test loss: 0.021763570606708527\n",
            "Test mae: 0.0570896752178669\n"
          ],
          "name": "stdout"
        }
      ]
    },
    {
      "cell_type": "markdown",
      "metadata": {
        "id": "oNMwjGSI46zM"
      },
      "source": [
        "Show some predictions on the test set"
      ]
    },
    {
      "cell_type": "code",
      "metadata": {
        "id": "I2LUxaoC5nzN",
        "outputId": "65baa0e0-253a-4b1a-e953-68d52f2ab544",
        "colab": {
          "base_uri": "https://localhost:8080/"
        }
      },
      "source": [
        "x_test.shape"
      ],
      "execution_count": null,
      "outputs": [
        {
          "output_type": "execute_result",
          "data": {
            "text/plain": [
              "(10000, 28, 28, 1)"
            ]
          },
          "metadata": {
            "tags": []
          },
          "execution_count": 27
        }
      ]
    },
    {
      "cell_type": "code",
      "metadata": {
        "id": "vizywO265RiR"
      },
      "source": [
        "prediction = autoencoder.predict(x_test)"
      ],
      "execution_count": null,
      "outputs": []
    },
    {
      "cell_type": "code",
      "metadata": {
        "id": "NydkEcOr3qJO",
        "outputId": "c517f71c-fee8-4ce4-c830-5b2738c77ef7",
        "colab": {
          "base_uri": "https://localhost:8080/",
          "height": 267
        }
      },
      "source": [
        "\n",
        "\n",
        "fig=plt.figure(figsize=(8, 8))\n",
        "fig.add_subplot(1,2,1)\n",
        "plt.imshow(prediction[0,:,:,:].reshape(28,28))\n",
        "fig.add_subplot(1,2,2)\n",
        "plt.imshow(x_test[0,:,:,:].reshape(28,28))\n"
      ],
      "execution_count": null,
      "outputs": [
        {
          "output_type": "execute_result",
          "data": {
            "text/plain": [
              "<matplotlib.image.AxesImage at 0x7fc93c8f1908>"
            ]
          },
          "metadata": {
            "tags": []
          },
          "execution_count": 31
        },
        {
          "output_type": "display_data",
          "data": {
            "image/png": "[encoded data removed]",
            "text/plain": [
              "<Figure size 576x576 with 2 Axes>"
            ]
          },
          "metadata": {
            "tags": []
          }
        }
      ]
    },
    {
      "cell_type": "code",
      "metadata": {
        "id": "c5Em22Fi6gp7",
        "outputId": "25fab91f-c664-4256-eaf6-2b026816b7e9",
        "colab": {
          "base_uri": "https://localhost:8080/",
          "height": 267
        }
      },
      "source": [
        "\n",
        "fig=plt.figure(figsize=(8, 8))\n",
        "fig.add_subplot(1,2,1)\n",
        "plt.imshow(prediction[30,:,:,:].reshape(28,28))\n",
        "fig.add_subplot(1,2,2)\n",
        "plt.imshow(x_test[30,:,:,:].reshape(28,28))"
      ],
      "execution_count": null,
      "outputs": [
        {
          "output_type": "execute_result",
          "data": {
            "text/plain": [
              "<matplotlib.image.AxesImage at 0x7fc93c9e5cf8>"
            ]
          },
          "metadata": {
            "tags": []
          },
          "execution_count": 32
        },
        {
          "output_type": "display_data",
          "data": {
            "image/png": "[encoded data removed]",
            "text/plain": [
              "<Figure size 576x576 with 2 Axes>"
            ]
          },
          "metadata": {
            "tags": []
          }
        }
      ]
    },
    {
      "cell_type": "markdown",
      "metadata": {
        "id": "yRXPxxjf81L3"
      },
      "source": [
        "Test with fashion_mnist"
      ]
    },
    {
      "cell_type": "code",
      "metadata": {
        "id": "iC5uSBPp7Ou0"
      },
      "source": [
        " (train_images, train_labels),(test_images, test_labels) = keras.datasets.fashion_mnist.load_data()\n",
        "train = train_images.reshape(60000, 28*28)\n",
        "test = test_images.reshape(10000, 28*28)\n",
        "x_train = train.astype(\"float32\") / 255\n",
        "x_test = test.astype(\"float32\") / 255\n",
        "x_train = x_train.reshape((x_train.shape[0],28,28,1))\n",
        "x_test = x_test.reshape((x_test.shape[0],28,28,1))"
      ],
      "execution_count": null,
      "outputs": []
    },
    {
      "cell_type": "code",
      "metadata": {
        "id": "7ySHOPuA9snb",
        "outputId": "9bd4e8a5-313f-44bb-c989-a38f2bc9c066",
        "colab": {
          "base_uri": "https://localhost:8080/",
          "height": 282
        }
      },
      "source": [
        "plt.imshow(train_images[0,:,:])"
      ],
      "execution_count": null,
      "outputs": [
        {
          "output_type": "execute_result",
          "data": {
            "text/plain": [
              "<matplotlib.image.AxesImage at 0x7fc93a390c18>"
            ]
          },
          "metadata": {
            "tags": []
          },
          "execution_count": 48
        },
        {
          "output_type": "display_data",
          "data": {
            "image/png": "[encoded data removed]",
            "text/plain": [
              "<Figure size 432x288 with 1 Axes>"
            ]
          },
          "metadata": {
            "tags": [],
            "needs_background": "light"
          }
        }
      ]
    },
    {
      "cell_type": "markdown",
      "metadata": {
        "id": "VjGxFQPT-_Tu"
      },
      "source": [
        "Define the same model and train it on the new datasett"
      ]
    },
    {
      "cell_type": "code",
      "metadata": {
        "id": "tRXx5MIw-8RH",
        "outputId": "a80fd568-1f37-423b-c337-5a35f5b19831",
        "colab": {
          "base_uri": "https://localhost:8080/"
        }
      },
      "source": [
        "autoencoder_input = keras.Input(shape=(28, 28, 1), name='img')\n",
        "encoded_img = encoder(autoencoder_input)\n",
        "decoded_img = decoder(encoded_img)\n",
        "autoencoder = keras.Model(autoencoder_input, decoded_img, name='autoencoder')\n",
        "autoencoder.summary()"
      ],
      "execution_count": null,
      "outputs": [
        {
          "output_type": "stream",
          "text": [
            "Model: \"autoencoder\"\n",
            "_________________________________________________________________\n",
            "Layer (type)                 Output Shape              Param #   \n",
            "=================================================================\n",
            "img (InputLayer)             [(None, 28, 28, 1)]       0         \n",
            "_________________________________________________________________\n",
            "encoder (Functional)         (None, 16)                18672     \n",
            "_________________________________________________________________\n",
            "decoder (Functional)         (None, 28, 28, 1)         9569      \n",
            "=================================================================\n",
            "Total params: 28,241\n",
            "Trainable params: 28,241\n",
            "Non-trainable params: 0\n",
            "_________________________________________________________________\n"
          ],
          "name": "stdout"
        }
      ]
    },
    {
      "cell_type": "code",
      "metadata": {
        "id": "p-Aw6Ecx96Zf",
        "outputId": "a3075b50-36c8-481d-b2e9-985d091aef7b",
        "colab": {
          "base_uri": "https://localhost:8080/"
        }
      },
      "source": [
        "\n",
        "autoencoder.compile(loss='mean_squared_error',\n",
        " optimizer=keras.optimizers.RMSprop(),\n",
        " metrics=['mae'])\n",
        "history = autoencoder.fit(x_train, x_train,batch_size=64,epochs=10,validation_split=0.2)\n",
        "test_scores = autoencoder.evaluate(x_test, x_test, verbose=2)\n",
        "print('Test loss:', test_scores[0])\n",
        "print('Test mae:', test_scores[1])"
      ],
      "execution_count": null,
      "outputs": [
        {
          "output_type": "stream",
          "text": [
            "Epoch 1/10\n",
            "750/750 [==============================] - 4s 5ms/step - loss: 0.0368 - mae: 0.1138 - val_loss: 0.0307 - val_mae: 0.0995\n",
            "Epoch 2/10\n",
            "750/750 [==============================] - 4s 5ms/step - loss: 0.0298 - mae: 0.0989 - val_loss: 0.0316 - val_mae: 0.1009\n",
            "Epoch 3/10\n",
            "750/750 [==============================] - 4s 5ms/step - loss: 0.0282 - mae: 0.0949 - val_loss: 0.0276 - val_mae: 0.0937\n",
            "Epoch 4/10\n",
            "750/750 [==============================] - 4s 5ms/step - loss: 0.0272 - mae: 0.0924 - val_loss: 0.0263 - val_mae: 0.0901\n",
            "Epoch 5/10\n",
            "750/750 [==============================] - 4s 5ms/step - loss: 0.0264 - mae: 0.0906 - val_loss: 0.0255 - val_mae: 0.0880\n",
            "Epoch 6/10\n",
            "750/750 [==============================] - 4s 5ms/step - loss: 0.0258 - mae: 0.0892 - val_loss: 0.0283 - val_mae: 0.0972\n",
            "Epoch 7/10\n",
            "750/750 [==============================] - 4s 5ms/step - loss: 0.0253 - mae: 0.0880 - val_loss: 0.0274 - val_mae: 0.0948\n",
            "Epoch 8/10\n",
            "750/750 [==============================] - 4s 5ms/step - loss: 0.0249 - mae: 0.0870 - val_loss: 0.0259 - val_mae: 0.0898\n",
            "Epoch 9/10\n",
            "750/750 [==============================] - 4s 5ms/step - loss: 0.0246 - mae: 0.0861 - val_loss: 0.0256 - val_mae: 0.0891\n",
            "Epoch 10/10\n",
            "750/750 [==============================] - 4s 5ms/step - loss: 0.0243 - mae: 0.0853 - val_loss: 0.0243 - val_mae: 0.0859\n",
            "313/313 - 1s - loss: 0.0243 - mae: 0.0861\n",
            "Test loss: 0.024276260286569595\n",
            "Test mae: 0.08605176210403442\n"
          ],
          "name": "stdout"
        }
      ]
    },
    {
      "cell_type": "code",
      "metadata": {
        "id": "9kbUmpac_Tsd"
      },
      "source": [
        "prediction = autoencoder.predict(x_test)"
      ],
      "execution_count": null,
      "outputs": []
    },
    {
      "cell_type": "code",
      "metadata": {
        "id": "hV5HVN3O-91m",
        "outputId": "17bb6fc0-c29e-4261-a58a-3afd5db76a31",
        "colab": {
          "base_uri": "https://localhost:8080/",
          "height": 267
        }
      },
      "source": [
        "\n",
        "fig=plt.figure(figsize=(8, 8))\n",
        "fig.add_subplot(1,2,1)\n",
        "plt.imshow(prediction[30,:,:,:].reshape(28,28))\n",
        "fig.add_subplot(1,2,2)\n",
        "plt.imshow(x_test[30,:,:,:].reshape(28,28))"
      ],
      "execution_count": null,
      "outputs": [
        {
          "output_type": "execute_result",
          "data": {
            "text/plain": [
              "<matplotlib.image.AxesImage at 0x7fc93887e5f8>"
            ]
          },
          "metadata": {
            "tags": []
          },
          "execution_count": 52
        },
        {
          "output_type": "display_data",
          "data": {
            "image/png": "[encoded data removed]",
            "text/plain": [
              "<Figure size 576x576 with 2 Axes>"
            ]
          },
          "metadata": {
            "tags": [],
            "needs_background": "light"
          }
        }
      ]
    },
    {
      "cell_type": "markdown",
      "metadata": {
        "id": "HS1oxy3nGuBd"
      },
      "source": [
        "## III- Model with multiple inputs and outputs"
      ]
    },
    {
      "cell_type": "markdown",
      "metadata": {
        "id": "QHrosn_pHCMk"
      },
      "source": [
        "### Create dummy data"
      ]
    },
    {
      "cell_type": "code",
      "metadata": {
        "id": "h7IDWbJS_Vr6"
      },
      "source": [
        "import numpy as np\n",
        "num_tags = 12 # Number of unique issue tags\n",
        "num_words = 10000 # Size of vocabulary obtained when preprocessing text data\n",
        "num_departments = 4 # Number of departments for predictions\n",
        "\n",
        "# Dummy input data\n",
        " \n",
        "title_data = np.random.randint(num_words, size=(1280, 10))\n",
        "body_data = np.random.randint(num_words, size=(1280, 100))\n",
        "tags_data = np.random.randint(2, size=(1280, num_tags)).astype('float32')\n",
        "# Dummy target data\n",
        "priority_targets = np.random.random(size=(1280, 1))\n",
        "dept_targets = np.random.randint(2, size=(1280, num_departments))"
      ],
      "execution_count": null,
      "outputs": []
    },
    {
      "cell_type": "markdown",
      "metadata": {
        "id": "cb73bvDIHiTH"
      },
      "source": [
        "### Build the model"
      ]
    },
    {
      "cell_type": "code",
      "metadata": {
        "id": "ynxcNbCRHGur"
      },
      "source": [
        "title_input = keras.Input(shape=(None,), name='title') # Variable-length sequence of ints\n",
        "body_input = keras.Input(shape=(None,), name='body') # Variable-length sequence of ints\n",
        "tags_input = keras.Input(shape=(num_tags,), name='tags') # Binary vectors of size `num_tags`\n"
      ],
      "execution_count": null,
      "outputs": []
    },
    {
      "cell_type": "code",
      "metadata": {
        "id": "ANfgeTwSIADk"
      },
      "source": [
        "# Embed each word in the title into a 64-dimensional vector\n",
        "title_features = layers.Embedding(num_words, 64)(title_input)\n",
        "# Embed each word in the text into a 64-dimensional vector\n",
        "body_features = layers.Embedding(num_words, 64)(body_input)"
      ],
      "execution_count": null,
      "outputs": []
    },
    {
      "cell_type": "code",
      "metadata": {
        "id": "iuHw8TmnILGD"
      },
      "source": [
        "# Reduce sequence of embedded words in the title into a single 128-dimensional vector\n",
        "title_features = layers.LSTM(128)(title_features)\n",
        "# Reduce sequence of embedded words in the body into a single 32-dimensional vector\n",
        "body_features = layers.LSTM(32)(body_features)\n",
        "# Merge all available features into a single large vector via concatenation\n",
        "x = layers.concatenate([title_features, body_features, tags_input])\n",
        "# Stick a logistic regression for priority prediction on top of the features\n",
        "priority_pred = layers.Dense(1, activation='sigmoid', name='priority')(x)\n",
        "# Stick a department classifier on top of the features\n",
        "department_pred = layers.Dense(num_departments, activation='softmax', name='department')(x)\n",
        "# Instantiate an end-to-end model predicting both priority and department\n",
        "model = keras.Model(inputs=[title_input, body_input, tags_input],\n",
        " outputs=[priority_pred, department_pred])"
      ],
      "execution_count": null,
      "outputs": []
    },
    {
      "cell_type": "code",
      "metadata": {
        "id": "GqPRGHK_IQI0",
        "outputId": "dfbcdc8a-c0c6-4d20-ba7a-1b1d9b94850f",
        "colab": {
          "base_uri": "https://localhost:8080/",
          "height": 533
        }
      },
      "source": [
        "keras.utils.plot_model(model, 'multi_input_and_output_model.png', show_shapes=True)\n"
      ],
      "execution_count": null,
      "outputs": [
        {
          "output_type": "execute_result",
          "data": {
            "image/png": "[encoded data removed]",
            "text/plain": [
              "<IPython.core.display.Image object>"
            ]
          },
          "metadata": {
            "tags": []
          },
          "execution_count": 61
        }
      ]
    },
    {
      "cell_type": "code",
      "metadata": {
        "id": "1y_FIqpdIVUS"
      },
      "source": [
        "model.compile(optimizer=keras.optimizers.RMSprop(1e-3),\n",
        " loss={'priority': 'binary_crossentropy',\n",
        " 'department': 'categorical_crossentropy'},\n",
        " loss_weights=[1., 0.2])"
      ],
      "execution_count": null,
      "outputs": []
    },
    {
      "cell_type": "code",
      "metadata": {
        "id": "NPjNAZnIIoEw",
        "outputId": "3b8a9ffc-a2cf-434d-c2d8-b6293633643b",
        "colab": {
          "base_uri": "https://localhost:8080/"
        }
      },
      "source": [
        "model.fit({'title': title_data, 'body': body_data, 'tags': tags_data},\n",
        " {'priority': priority_targets, 'department': dept_targets},\n",
        " epochs=2,\n",
        " batch_size=32)"
      ],
      "execution_count": null,
      "outputs": [
        {
          "output_type": "stream",
          "text": [
            "Epoch 1/2\n",
            "40/40 [==============================] - 1s 15ms/step - loss: 1.3452 - priority_loss: 0.7018 - department_loss: 3.2166\n",
            "Epoch 2/2\n",
            "40/40 [==============================] - 1s 14ms/step - loss: 1.3492 - priority_loss: 0.6982 - department_loss: 3.2549\n"
          ],
          "name": "stdout"
        },
        {
          "output_type": "execute_result",
          "data": {
            "text/plain": [
              "<tensorflow.python.keras.callbacks.History at 0x7fc93e1ca9b0>"
            ]
          },
          "metadata": {
            "tags": []
          },
          "execution_count": 63
        }
      ]
    },
    {
      "cell_type": "markdown",
      "metadata": {
        "id": "7pTPC-23M2o2"
      },
      "source": [
        "VI- Final model "
      ]
    },
    {
      "cell_type": "markdown",
      "metadata": {
        "id": "azGZqOsGNFMx"
      },
      "source": [
        "1- create dummy data "
      ]
    },
    {
      "cell_type": "code",
      "metadata": {
        "id": "tILrSNfRIrI-"
      },
      "source": [
        "# ### the 6 planes\n",
        "# import random\n",
        "# planes = np.array(random.choices([0,1], k=1000*19*19*6)).reshape((1000,19,19,6))\n",
        "# ### the policy\n",
        "# policy = np.zeros((1000,361))\n",
        "# for i in range(policy.shape[0]):\n",
        "#   index = np.random.randint(361)\n",
        "#   policy[i,index] = 1\n",
        "# #### 1 o 0 output\n",
        "# output = np.array(random.choices([0,1],k=1000)).reshape((1000,))"
      ],
      "execution_count": null,
      "outputs": []
    },
    {
      "cell_type": "code",
      "metadata": {
        "id": "KuxwXQdERJ2B"
      },
      "source": [
        "N = 100000\n",
        "planes = 6\n",
        "moves = 361\n",
        "input_data = np.random.randint(2, size=(N, 19, 19, planes))\n",
        "input_data = input_data.astype ('float32')\n",
        "\n",
        "policy = np.random.randint(moves, size=(N,))\n",
        "policy = keras.utils.to_categorical (policy)\n",
        "\n",
        "value = np.random.randint(2, size=(N,))\n",
        "value = value.astype ('float32')"
      ],
      "execution_count": null,
      "outputs": []
    },
    {
      "cell_type": "code",
      "metadata": {
        "id": "l8_j2C5QPHAP",
        "outputId": "3692c4e0-a870-44c7-c1c5-801aca090819",
        "colab": {
          "base_uri": "https://localhost:8080/"
        }
      },
      "source": [
        "input_data.shape, policy.shape, value.shape"
      ],
      "execution_count": null,
      "outputs": [
        {
          "output_type": "execute_result",
          "data": {
            "text/plain": [
              "((100000, 19, 19, 6), (100000, 361), (100000,))"
            ]
          },
          "metadata": {
            "tags": []
          },
          "execution_count": 75
        }
      ]
    },
    {
      "cell_type": "markdown",
      "metadata": {
        "id": "NMuBVREPP0tn"
      },
      "source": [
        "2- Define the model"
      ]
    },
    {
      "cell_type": "code",
      "metadata": {
        "id": "M0O2bmpZQhxA",
        "outputId": "f58de8c4-ffc3-40a3-f30c-8d94f8e815f0",
        "colab": {
          "base_uri": "https://localhost:8080/"
        }
      },
      "source": [
        "input = keras.Input(shape=(19, 19, planes), name='board')\n",
        "x = layers.Conv2D(32, 3, activation='relu', padding='same')(input)\n",
        "x = layers.Conv2D(32, 3, activation='relu', padding='same')(x)\n",
        "x = layers.Conv2D(32, 3, activation='relu', padding='same')(x)\n",
        "x = layers.Conv2D(32, 3, activation='relu', padding='same')(x)\n",
        "x = layers.Conv2D(32, 3, activation='relu', padding='same')(x)\n",
        "x = layers.Conv2D(32, 3, activation='relu', padding='same')(x)\n",
        "policy_head = layers.Conv2D(1, 3, activation='relu', padding='same')(x)\n",
        "policy_head = layers.Flatten()(policy_head)\n",
        "policy_head = layers.Dense(moves, activation='softmax', name='policy')(policy_head)\n",
        "value_head = layers.Flatten()(x)\n",
        "value_head = layers.Dense(1, activation='sigmoid', name='value')(value_head)\n",
        " \n",
        "model = keras.Model(inputs=input, outputs=[policy_head, value_head])\n",
        " \n",
        "model.summary ()\n"
      ],
      "execution_count": null,
      "outputs": [
        {
          "output_type": "stream",
          "text": [
            "Model: \"functional_3\"\n",
            "__________________________________________________________________________________________________\n",
            "Layer (type)                    Output Shape         Param #     Connected to                     \n",
            "==================================================================================================\n",
            "board (InputLayer)              [(None, 19, 19, 6)]  0                                            \n",
            "__________________________________________________________________________________________________\n",
            "conv2d_22 (Conv2D)              (None, 19, 19, 32)   1760        board[0][0]                      \n",
            "__________________________________________________________________________________________________\n",
            "conv2d_23 (Conv2D)              (None, 19, 19, 32)   9248        conv2d_22[0][0]                  \n",
            "__________________________________________________________________________________________________\n",
            "conv2d_24 (Conv2D)              (None, 19, 19, 32)   9248        conv2d_23[0][0]                  \n",
            "__________________________________________________________________________________________________\n",
            "conv2d_25 (Conv2D)              (None, 19, 19, 32)   9248        conv2d_24[0][0]                  \n",
            "__________________________________________________________________________________________________\n",
            "conv2d_26 (Conv2D)              (None, 19, 19, 32)   9248        conv2d_25[0][0]                  \n",
            "__________________________________________________________________________________________________\n",
            "conv2d_27 (Conv2D)              (None, 19, 19, 32)   9248        conv2d_26[0][0]                  \n",
            "__________________________________________________________________________________________________\n",
            "conv2d_28 (Conv2D)              (None, 19, 19, 1)    289         conv2d_27[0][0]                  \n",
            "__________________________________________________________________________________________________\n",
            "flatten_4 (Flatten)             (None, 361)          0           conv2d_28[0][0]                  \n",
            "__________________________________________________________________________________________________\n",
            "flatten_5 (Flatten)             (None, 11552)        0           conv2d_27[0][0]                  \n",
            "__________________________________________________________________________________________________\n",
            "policy (Dense)                  (None, 361)          130682      flatten_4[0][0]                  \n",
            "__________________________________________________________________________________________________\n",
            "value (Dense)                   (None, 1)            11553       flatten_5[0][0]                  \n",
            "==================================================================================================\n",
            "Total params: 190,524\n",
            "Trainable params: 190,524\n",
            "Non-trainable params: 0\n",
            "__________________________________________________________________________________________________\n"
          ],
          "name": "stdout"
        }
      ]
    },
    {
      "cell_type": "code",
      "metadata": {
        "id": "Eh7LPRvlPjTF",
        "outputId": "2d084370-b0d2-41b8-d05d-c071408ed6a3",
        "colab": {
          "base_uri": "https://localhost:8080/",
          "height": 1000
        }
      },
      "source": [
        "keras.utils.plot_model(model, show_shapes=True)\n"
      ],
      "execution_count": null,
      "outputs": [
        {
          "output_type": "execute_result",
          "data": {
            "image/png": "[encoded data removed]",
            "text/plain": [
              "<IPython.core.display.Image object>"
            ]
          },
          "metadata": {
            "tags": []
          },
          "execution_count": 84
        }
      ]
    },
    {
      "cell_type": "code",
      "metadata": {
        "id": "mf0F3yOPVOUt"
      },
      "source": [
        "model.compile(optimizer=keras.optimizers.RMSprop(1e-3),\n",
        " loss={'policy': 'categorical_crossentropy',\n",
        " 'value': 'mse'},\n",
        " loss_weights=[1., 1.])"
      ],
      "execution_count": null,
      "outputs": []
    },
    {
      "cell_type": "code",
      "metadata": {
        "id": "u06u3uTMVkmG",
        "outputId": "91e6c43a-50c9-4915-eeab-b4577b600f6d",
        "colab": {
          "base_uri": "https://localhost:8080/"
        }
      },
      "source": [
        "model.fit((input_data),\n",
        " (policy,value),\n",
        " epochs=2,\n",
        " batch_size=32, validation_split = 0.2)"
      ],
      "execution_count": null,
      "outputs": [
        {
          "output_type": "stream",
          "text": [
            "Epoch 1/2\n",
            "2500/2500 [==============================] - 15s 6ms/step - loss: 6.1394 - policy_loss: 5.8894 - value_loss: 0.2500 - val_loss: 6.1400 - val_policy_loss: 5.8901 - val_value_loss: 0.2500\n",
            "Epoch 2/2\n",
            "2500/2500 [==============================] - 14s 5ms/step - loss: 6.1394 - policy_loss: 5.8893 - value_loss: 0.2500 - val_loss: 6.1414 - val_policy_loss: 5.8915 - val_value_loss: 0.2500\n"
          ],
          "name": "stdout"
        },
        {
          "output_type": "execute_result",
          "data": {
            "text/plain": [
              "<tensorflow.python.keras.callbacks.History at 0x7fc968c538d0>"
            ]
          },
          "metadata": {
            "tags": []
          },
          "execution_count": 88
        }
      ]
    },
    {
      "cell_type": "code",
      "metadata": {
        "id": "V7Ks138XV4Wb"
      },
      "source": [
        "model.save ('test.h5')"
      ],
      "execution_count": null,
      "outputs": []
    },
    {
      "cell_type": "markdown",
      "metadata": {
        "id": "_3nSRzdrCDrR"
      },
      "source": [
        "# <center> RESIDUAL NETWORKS VS CONVNETS"
      ]
    },
    {
      "cell_type": "markdown",
      "metadata": {
        "id": "qZRicBPXFf2T"
      },
      "source": [
        "Let's compare a convnet and a resnet on CIFAR10\n"
      ]
    },
    {
      "cell_type": "markdown",
      "metadata": {
        "id": "m9VfkaX7Fl_W"
      },
      "source": [
        "1- Prepare the data"
      ]
    },
    {
      "cell_type": "code",
      "metadata": {
        "id": "xM9LmdJIEtnV",
        "outputId": "cd63bc4c-04ad-4b3c-9591-e5621b573b47",
        "colab": {
          "base_uri": "https://localhost:8080/"
        }
      },
      "source": [
        "import matplotlib.pyplot as plt\n",
        "from keras import datasets\n",
        "(train_images, train_labels), (test_images, test_labels) = datasets.cifar10.load_data()"
      ],
      "execution_count": null,
      "outputs": [
        {
          "output_type": "stream",
          "text": [
            "Downloading data from https://www.cs.toronto.edu/~kriz/cifar-10-python.tar.gz\n",
            "170500096/170498071 [==============================] - 2s 0us/step\n"
          ],
          "name": "stdout"
        }
      ]
    },
    {
      "cell_type": "code",
      "metadata": {
        "id": "N_XwmlW0FObj",
        "outputId": "5765778e-4022-479d-eeb8-ed6e037676bb",
        "colab": {
          "base_uri": "https://localhost:8080/"
        }
      },
      "source": [
        "train_images.shape, test_images.shape"
      ],
      "execution_count": null,
      "outputs": [
        {
          "output_type": "execute_result",
          "data": {
            "text/plain": [
              "((50000, 32, 32, 3), (10000, 32, 32, 3))"
            ]
          },
          "metadata": {
            "tags": []
          },
          "execution_count": 3
        }
      ]
    },
    {
      "cell_type": "code",
      "metadata": {
        "id": "gfhti5KQFVMD"
      },
      "source": [
        "# Normalize pixel values to be between 0 and 1\n",
        "train_images, test_images = train_images / 255.0, test_images / 255.0"
      ],
      "execution_count": null,
      "outputs": []
    },
    {
      "cell_type": "code",
      "metadata": {
        "id": "DmT5JH16Fb6F"
      },
      "source": [
        "train_labels = keras.utils.to_categorical(train_labels, 10) # 10 classes\n",
        "test_labels = keras.utils.to_categorical(test_labels, 10)"
      ],
      "execution_count": null,
      "outputs": []
    },
    {
      "cell_type": "markdown",
      "metadata": {
        "id": "5du3WPEnFoU-"
      },
      "source": [
        "2- Define and train the convnet : "
      ]
    },
    {
      "cell_type": "code",
      "metadata": {
        "id": "nY3H4obVFeog"
      },
      "source": [
        "## classification model for cifar10\n",
        "from tensorflow.keras.layers import Input,Lambda,Flatten,MaxPooling2D,Dropout,Conv2D, Dense\n",
        "from tensorflow.keras import Sequential\n",
        "from tensorflow.keras.optimizers import SGD\n",
        "def build_model_base_CNN(input_shape):\n",
        "  input = Input(shape=input_shape)\n",
        "  model = Sequential()\n",
        "  model.add(Conv2D(32, (3, 3), activation='relu', kernel_initializer='he_uniform', padding='same', input_shape=(32, 32, 3)))\n",
        "  model.add(Conv2D(32, (3, 3), activation='relu', kernel_initializer='he_uniform', padding='same'))\n",
        "  model.add(MaxPooling2D((2, 2)))\n",
        "  model.add(Dropout(0.2))\n",
        "  model.add(Conv2D(64, (3, 3), activation='relu', kernel_initializer='he_uniform', padding='same'))\n",
        "  model.add(Conv2D(64, (3, 3), activation='relu', kernel_initializer='he_uniform', padding='same'))\n",
        "  model.add(MaxPooling2D((2, 2)))\n",
        "  model.add(Dropout(0.2))\n",
        "  model.add(Conv2D(128, (3, 3), activation='relu', kernel_initializer='he_uniform', padding='same'))\n",
        "  model.add(Conv2D(128, (3, 3), activation='relu', kernel_initializer='he_uniform', padding='same'))\n",
        "  model.add(MaxPooling2D((2, 2)))\n",
        "  model.add(Dropout(0.2))\n",
        "  model.add(Flatten())\n",
        "  model.add(Dense(128, activation='relu', kernel_initializer='he_uniform'))\n",
        "  model.add(Dropout(0.2))\n",
        "  model.add(Dense(10, activation='softmax'))\n",
        "  # compile model\n",
        "  opt = SGD(lr=0.001, momentum=0.9)\n",
        "  model.compile(optimizer=opt, loss='categorical_crossentropy', metrics=['accuracy'])\n",
        "  return model"
      ],
      "execution_count": null,
      "outputs": []
    },
    {
      "cell_type": "code",
      "metadata": {
        "id": "MDjLj9-CFyUw",
        "outputId": "407b578d-225e-4ff4-b0fc-f3316512f01d",
        "colab": {
          "base_uri": "https://localhost:8080/"
        }
      },
      "source": [
        "### train a cnn classification model \n",
        "\n",
        "\n",
        "convnet = build_model_base_CNN(train_images.shape[1:])\n",
        "history1 = convnet.fit(train_images, train_labels, epochs=20, batch_size=64,verbose=1,validation_data=(test_images,test_labels))"
      ],
      "execution_count": null,
      "outputs": [
        {
          "output_type": "stream",
          "text": [
            "Epoch 1/20\n",
            "782/782 [==============================] - 7s 8ms/step - loss: 2.0962 - accuracy: 0.2199 - val_loss: 1.8755 - val_accuracy: 0.3111\n",
            "Epoch 2/20\n",
            "782/782 [==============================] - 6s 8ms/step - loss: 1.7499 - accuracy: 0.3536 - val_loss: 1.6288 - val_accuracy: 0.4134\n",
            "Epoch 3/20\n",
            "782/782 [==============================] - 6s 8ms/step - loss: 1.5739 - accuracy: 0.4258 - val_loss: 1.4736 - val_accuracy: 0.4676\n",
            "Epoch 4/20\n",
            "782/782 [==============================] - 6s 8ms/step - loss: 1.4642 - accuracy: 0.4668 - val_loss: 1.3182 - val_accuracy: 0.5267\n",
            "Epoch 5/20\n",
            "782/782 [==============================] - 6s 8ms/step - loss: 1.3740 - accuracy: 0.5004 - val_loss: 1.2440 - val_accuracy: 0.5587\n",
            "Epoch 6/20\n",
            "782/782 [==============================] - 6s 8ms/step - loss: 1.3036 - accuracy: 0.5297 - val_loss: 1.2030 - val_accuracy: 0.5689\n",
            "Epoch 7/20\n",
            "782/782 [==============================] - 6s 8ms/step - loss: 1.2352 - accuracy: 0.5551 - val_loss: 1.1134 - val_accuracy: 0.6056\n",
            "Epoch 8/20\n",
            "782/782 [==============================] - 6s 8ms/step - loss: 1.1735 - accuracy: 0.5799 - val_loss: 1.0629 - val_accuracy: 0.6242\n",
            "Epoch 9/20\n",
            "782/782 [==============================] - 6s 8ms/step - loss: 1.1172 - accuracy: 0.6016 - val_loss: 1.0227 - val_accuracy: 0.6384\n",
            "Epoch 10/20\n",
            "782/782 [==============================] - 6s 8ms/step - loss: 1.0757 - accuracy: 0.6182 - val_loss: 0.9854 - val_accuracy: 0.6508\n",
            "Epoch 11/20\n",
            "782/782 [==============================] - 6s 8ms/step - loss: 1.0320 - accuracy: 0.6341 - val_loss: 0.9429 - val_accuracy: 0.6640\n",
            "Epoch 12/20\n",
            "782/782 [==============================] - 6s 8ms/step - loss: 0.9984 - accuracy: 0.6449 - val_loss: 0.9177 - val_accuracy: 0.6765\n",
            "Epoch 13/20\n",
            "782/782 [==============================] - 6s 8ms/step - loss: 0.9676 - accuracy: 0.6548 - val_loss: 0.8926 - val_accuracy: 0.6842\n",
            "Epoch 14/20\n",
            "782/782 [==============================] - 6s 8ms/step - loss: 0.9362 - accuracy: 0.6681 - val_loss: 0.8711 - val_accuracy: 0.6968\n",
            "Epoch 15/20\n",
            "782/782 [==============================] - 6s 8ms/step - loss: 0.9143 - accuracy: 0.6759 - val_loss: 0.8724 - val_accuracy: 0.6894\n",
            "Epoch 16/20\n",
            "782/782 [==============================] - 6s 8ms/step - loss: 0.8905 - accuracy: 0.6859 - val_loss: 0.8484 - val_accuracy: 0.6983\n",
            "Epoch 17/20\n",
            "782/782 [==============================] - 6s 8ms/step - loss: 0.8683 - accuracy: 0.6950 - val_loss: 0.7979 - val_accuracy: 0.7205\n",
            "Epoch 18/20\n",
            "782/782 [==============================] - 6s 8ms/step - loss: 0.8456 - accuracy: 0.7010 - val_loss: 0.8227 - val_accuracy: 0.7151\n",
            "Epoch 19/20\n",
            "782/782 [==============================] - 6s 8ms/step - loss: 0.8275 - accuracy: 0.7085 - val_loss: 0.7708 - val_accuracy: 0.7319\n",
            "Epoch 20/20\n",
            "782/782 [==============================] - 6s 8ms/step - loss: 0.8066 - accuracy: 0.7143 - val_loss: 0.7646 - val_accuracy: 0.7353\n"
          ],
          "name": "stdout"
        }
      ]
    },
    {
      "cell_type": "markdown",
      "metadata": {
        "id": "EL5GBU6eGsZw"
      },
      "source": [
        "3- Define and train the ResNet :"
      ]
    },
    {
      "cell_type": "code",
      "metadata": {
        "id": "tW6W-POXGFHi",
        "outputId": "4428e6f4-e068-4389-efaa-e636c28f4ac3",
        "colab": {
          "base_uri": "https://localhost:8080/"
        }
      },
      "source": [
        "from tensorflow.keras import layers\n",
        "input = layers.Input(shape=(32, 32, 3))\n",
        "x = layers.Conv2D(32, 3, activation='relu', padding='same')(input)\n",
        "for i in range (5):\n",
        "    ident = x\n",
        "    x = layers.Conv2D(32, 3, activation='relu', padding='same')(x)\n",
        "    x = layers.Conv2D(32, 3, activation='relu', padding='same')(x)\n",
        "    x = layers.add([ident,x])\n",
        "flatten = layers.Flatten()(x)\n",
        "dense = layers.Dense(10, activation=\"softmax\")(flatten)\n",
        "resnet = tf.keras.models.Model(inputs=input, outputs=dense)\n",
        "opt = SGD(lr=0.001, momentum=0.9)\n",
        "resnet.compile(optimizer=opt, loss='categorical_crossentropy', metrics=['accuracy'])\n",
        "history2 = convnet.fit(train_images, train_labels, epochs=20, batch_size=64,verbose=1,validation_data=(test_images,test_labels))"
      ],
      "execution_count": null,
      "outputs": [
        {
          "output_type": "stream",
          "text": [
            "Epoch 1/20\n",
            "782/782 [==============================] - 7s 8ms/step - loss: 0.7820 - accuracy: 0.7233 - val_loss: 0.7246 - val_accuracy: 0.7458\n",
            "Epoch 2/20\n",
            "782/782 [==============================] - 6s 8ms/step - loss: 0.7664 - accuracy: 0.7291 - val_loss: 0.7034 - val_accuracy: 0.7568\n",
            "Epoch 3/20\n",
            "782/782 [==============================] - 6s 8ms/step - loss: 0.7527 - accuracy: 0.7351 - val_loss: 0.7229 - val_accuracy: 0.7478\n",
            "Epoch 4/20\n",
            "782/782 [==============================] - 6s 8ms/step - loss: 0.7360 - accuracy: 0.7422 - val_loss: 0.7276 - val_accuracy: 0.7444\n",
            "Epoch 5/20\n",
            "782/782 [==============================] - 6s 8ms/step - loss: 0.7233 - accuracy: 0.7456 - val_loss: 0.7065 - val_accuracy: 0.7525\n",
            "Epoch 6/20\n",
            "782/782 [==============================] - 6s 8ms/step - loss: 0.7126 - accuracy: 0.7493 - val_loss: 0.6781 - val_accuracy: 0.7631\n",
            "Epoch 7/20\n",
            "782/782 [==============================] - 6s 8ms/step - loss: 0.6912 - accuracy: 0.7567 - val_loss: 0.6650 - val_accuracy: 0.7701\n",
            "Epoch 8/20\n",
            "782/782 [==============================] - 6s 8ms/step - loss: 0.6793 - accuracy: 0.7595 - val_loss: 0.6763 - val_accuracy: 0.7621\n",
            "Epoch 9/20\n",
            "782/782 [==============================] - 6s 8ms/step - loss: 0.6630 - accuracy: 0.7673 - val_loss: 0.6669 - val_accuracy: 0.7649\n",
            "Epoch 10/20\n",
            "782/782 [==============================] - 6s 8ms/step - loss: 0.6572 - accuracy: 0.7670 - val_loss: 0.6537 - val_accuracy: 0.7719\n",
            "Epoch 11/20\n",
            "782/782 [==============================] - 6s 8ms/step - loss: 0.6417 - accuracy: 0.7739 - val_loss: 0.6738 - val_accuracy: 0.7637\n",
            "Epoch 12/20\n",
            "782/782 [==============================] - 6s 8ms/step - loss: 0.6355 - accuracy: 0.7743 - val_loss: 0.6309 - val_accuracy: 0.7815\n",
            "Epoch 13/20\n",
            "782/782 [==============================] - 6s 8ms/step - loss: 0.6210 - accuracy: 0.7835 - val_loss: 0.6258 - val_accuracy: 0.7806\n",
            "Epoch 14/20\n",
            "782/782 [==============================] - 6s 8ms/step - loss: 0.6129 - accuracy: 0.7830 - val_loss: 0.6226 - val_accuracy: 0.7856\n",
            "Epoch 15/20\n",
            "782/782 [==============================] - 6s 8ms/step - loss: 0.5992 - accuracy: 0.7879 - val_loss: 0.5993 - val_accuracy: 0.7907\n",
            "Epoch 16/20\n",
            "782/782 [==============================] - 6s 8ms/step - loss: 0.5915 - accuracy: 0.7908 - val_loss: 0.6128 - val_accuracy: 0.7862\n",
            "Epoch 17/20\n",
            "782/782 [==============================] - 6s 8ms/step - loss: 0.5832 - accuracy: 0.7941 - val_loss: 0.6202 - val_accuracy: 0.7889\n",
            "Epoch 18/20\n",
            "782/782 [==============================] - 6s 8ms/step - loss: 0.5723 - accuracy: 0.7977 - val_loss: 0.6033 - val_accuracy: 0.7922\n",
            "Epoch 19/20\n",
            "782/782 [==============================] - 6s 8ms/step - loss: 0.5624 - accuracy: 0.8017 - val_loss: 0.5990 - val_accuracy: 0.7910\n",
            "Epoch 20/20\n",
            "782/782 [==============================] - 6s 8ms/step - loss: 0.5528 - accuracy: 0.8044 - val_loss: 0.5950 - val_accuracy: 0.7974\n"
          ],
          "name": "stdout"
        }
      ]
    },
    {
      "cell_type": "markdown",
      "metadata": {
        "id": "DPVHuRfbJ7NN"
      },
      "source": [
        "4- Another CONVNET similar to the Resnet but we remove the add layer"
      ]
    },
    {
      "cell_type": "code",
      "metadata": {
        "id": "_iI8v2TQJHmM",
        "outputId": "16c1a616-358a-4988-8c59-c12f865c7512",
        "colab": {
          "base_uri": "https://localhost:8080/"
        }
      },
      "source": [
        "from tensorflow.keras import layers\n",
        "input = layers.Input(shape=(32, 32, 3))\n",
        "x = layers.Conv2D(32, 3, activation='relu', padding='same')(input)\n",
        "for i in range (5):\n",
        "    ident = x\n",
        "    x = layers.Conv2D(32, 3, activation='relu', padding='same')(x)\n",
        "    x = layers.Conv2D(32, 3, activation='relu', padding='same')(x)\n",
        "    # x = layers.add([ident,x])\n",
        "flatten = layers.Flatten()(x)\n",
        "dense = layers.Dense(10, activation=\"softmax\")(flatten)\n",
        "convnet2 = tf.keras.models.Model(inputs=input, outputs=dense)\n",
        "opt = SGD(lr=0.001, momentum=0.9)\n",
        "convnet2.compile(optimizer=opt, loss='categorical_crossentropy', metrics=['accuracy'])\n",
        "history3 = convnet2.fit(train_images, train_labels, epochs=20, batch_size=64,verbose=1,validation_data=(test_images,test_labels))"
      ],
      "execution_count": null,
      "outputs": [
        {
          "output_type": "stream",
          "text": [
            "Epoch 1/20\n",
            "782/782 [==============================] - 15s 20ms/step - loss: 2.1001 - accuracy: 0.2207 - val_loss: 1.8179 - val_accuracy: 0.3494\n",
            "Epoch 2/20\n",
            "782/782 [==============================] - 15s 19ms/step - loss: 1.7235 - accuracy: 0.3813 - val_loss: 1.6282 - val_accuracy: 0.4052\n",
            "Epoch 3/20\n",
            "782/782 [==============================] - 15s 19ms/step - loss: 1.5418 - accuracy: 0.4445 - val_loss: 1.6576 - val_accuracy: 0.4044\n",
            "Epoch 4/20\n",
            "782/782 [==============================] - 15s 19ms/step - loss: 1.4082 - accuracy: 0.4972 - val_loss: 1.3309 - val_accuracy: 0.5204\n",
            "Epoch 5/20\n",
            "782/782 [==============================] - 15s 19ms/step - loss: 1.2854 - accuracy: 0.5418 - val_loss: 1.2723 - val_accuracy: 0.5416\n",
            "Epoch 6/20\n",
            "782/782 [==============================] - 15s 19ms/step - loss: 1.1879 - accuracy: 0.5796 - val_loss: 1.1625 - val_accuracy: 0.5865\n",
            "Epoch 7/20\n",
            "782/782 [==============================] - 15s 19ms/step - loss: 1.1071 - accuracy: 0.6083 - val_loss: 1.1356 - val_accuracy: 0.5977\n",
            "Epoch 8/20\n",
            "782/782 [==============================] - 15s 19ms/step - loss: 1.0328 - accuracy: 0.6380 - val_loss: 1.1562 - val_accuracy: 0.5938\n",
            "Epoch 9/20\n",
            "782/782 [==============================] - 15s 19ms/step - loss: 0.9692 - accuracy: 0.6617 - val_loss: 1.0559 - val_accuracy: 0.6288\n",
            "Epoch 10/20\n",
            "782/782 [==============================] - 15s 19ms/step - loss: 0.9052 - accuracy: 0.6833 - val_loss: 1.0513 - val_accuracy: 0.6357\n",
            "Epoch 11/20\n",
            "782/782 [==============================] - 15s 19ms/step - loss: 0.8481 - accuracy: 0.7055 - val_loss: 1.0256 - val_accuracy: 0.6419\n",
            "Epoch 12/20\n",
            "782/782 [==============================] - 15s 19ms/step - loss: 0.7959 - accuracy: 0.7232 - val_loss: 1.0077 - val_accuracy: 0.6517\n",
            "Epoch 13/20\n",
            "782/782 [==============================] - 15s 19ms/step - loss: 0.7427 - accuracy: 0.7432 - val_loss: 1.0074 - val_accuracy: 0.6558\n",
            "Epoch 14/20\n",
            "782/782 [==============================] - 15s 19ms/step - loss: 0.6872 - accuracy: 0.7604 - val_loss: 1.0300 - val_accuracy: 0.6477\n",
            "Epoch 15/20\n",
            "782/782 [==============================] - 15s 19ms/step - loss: 0.6372 - accuracy: 0.7784 - val_loss: 1.0879 - val_accuracy: 0.6472\n",
            "Epoch 16/20\n",
            "782/782 [==============================] - 15s 19ms/step - loss: 0.5895 - accuracy: 0.7925 - val_loss: 1.1047 - val_accuracy: 0.6508\n",
            "Epoch 17/20\n",
            "782/782 [==============================] - 15s 19ms/step - loss: 0.5324 - accuracy: 0.8145 - val_loss: 1.2099 - val_accuracy: 0.6371\n",
            "Epoch 18/20\n",
            "782/782 [==============================] - 15s 19ms/step - loss: 0.4750 - accuracy: 0.8336 - val_loss: 1.2413 - val_accuracy: 0.6404\n",
            "Epoch 19/20\n",
            "782/782 [==============================] - 15s 19ms/step - loss: 0.4246 - accuracy: 0.8514 - val_loss: 1.3620 - val_accuracy: 0.6270\n",
            "Epoch 20/20\n",
            "782/782 [==============================] - 15s 19ms/step - loss: 0.3766 - accuracy: 0.8666 - val_loss: 1.3555 - val_accuracy: 0.6319\n"
          ],
          "name": "stdout"
        }
      ]
    },
    {
      "cell_type": "markdown",
      "metadata": {
        "id": "qBmBM5HmKqOF"
      },
      "source": [
        "5- Compare RESNET WITH CONVNET"
      ]
    },
    {
      "cell_type": "code",
      "metadata": {
        "id": "rXGm_MW1J1Y7",
        "outputId": "32459a27-de89-4a19-933e-d7f54c2c745d",
        "colab": {
          "base_uri": "https://localhost:8080/",
          "height": 295
        }
      },
      "source": [
        "import matplotlib.pyplot as plt\n",
        "history_dict1 = history1.history\n",
        "history_dict2 = history2.history\n",
        "history_dict3 = history3.history\n",
        "loss_values1 = history_dict1['val_loss']\n",
        "loss_values2 = history_dict2['val_loss']\n",
        "loss_values3 = history_dict3['val_loss']\n",
        "epochs = range(1, len(loss_values2) + 1)\n",
        "plt.plot(epochs, loss_values1, label='validation loss for first CONVNET')\n",
        "plt.plot(epochs, loss_values2, label='validation loss for RESNET')\n",
        "plt.plot(epochs, loss_values3, label='validation loss for second CONVNET')\n",
        "plt.title('Comparison of the validation loss')\n",
        "plt.xlabel('Epochs')\n",
        "plt.ylabel('Loss')\n",
        "plt.legend()\n",
        "plt.show()"
      ],
      "execution_count": null,
      "outputs": [
        {
          "output_type": "display_data",
          "data": {
            "image/png": "[encoded data removed]",
            "text/plain": [
              "<Figure size 432x288 with 1 Axes>"
            ]
          },
          "metadata": {
            "tags": [],
            "needs_background": "light"
          }
        }
      ]
    },
    {
      "cell_type": "code",
      "metadata": {
        "id": "inSbsvRyKZWB",
        "outputId": "2925da6b-a0d7-4bf9-8c9d-9fb4090c38cf",
        "colab": {
          "base_uri": "https://localhost:8080/",
          "height": 295
        }
      },
      "source": [
        "loss_values1 = history_dict1['loss']\n",
        "\n",
        "loss_values2 = history_dict2['loss']\n",
        "loss_values3 = history_dict3['loss']\n",
        "epochs = range(1, len(loss_values2) + 1)\n",
        "plt.plot(epochs, loss_values1, label='training loss for first CONVNET')\n",
        "\n",
        "plt.plot(epochs, loss_values2, label='training loss for RESNET')\n",
        "plt.plot(epochs, loss_values3, label='training loss for second CONVNET')\n",
        "plt.title('Comparison of the trainining loss')\n",
        "plt.xlabel('Epochs')\n",
        "plt.ylabel('Loss')\n",
        "plt.legend()\n",
        "plt.show()"
      ],
      "execution_count": null,
      "outputs": [
        {
          "output_type": "display_data",
          "data": {
            "image/png": "[encoded data removed]",
            "text/plain": [
              "<Figure size 432x288 with 1 Axes>"
            ]
          },
          "metadata": {
            "tags": [],
            "needs_background": "light"
          }
        }
      ]
    },
    {
      "cell_type": "code",
      "metadata": {
        "id": "wDpl4fSlKyzK"
      },
      "source": [
        ""
      ],
      "execution_count": null,
      "outputs": []
    }
  ]
}